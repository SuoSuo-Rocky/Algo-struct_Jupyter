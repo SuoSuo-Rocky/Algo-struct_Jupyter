{
 "cells": [
  {
   "cell_type": "markdown",
   "metadata": {},
   "source": [
    "## 到当前 已 学习的 几种 反反爬 策略\n",
    "- robots\n",
    "- UA\n",
    "- 数据加密\n",
    "- 懒加载\n",
    "- 代理 IP "
   ]
  },
  {
   "cell_type": "code",
   "execution_count": 71,
   "metadata": {},
   "outputs": [],
   "source": [
    "# 当请求 发送 过于频繁 ，IP 则有可能 被服务器禁掉， \n",
    "# 故 我们 可以使用 代理 IP\n",
    "# 设置请求的代理 ip: http://www.goubanjia.com/  快代理， 西祠代理\n",
    "# 代理 IP 的类型 必须和 请求 URL 的 协议头要保持一致，否则 报错\n",
    "import requests \n",
    "import random\n",
    "\n",
    "url = \"http://www.ip138.com/\"\n",
    "# 犯的 一个错， User-Agent 的值 不可有 省略号\n",
    "# header = {\n",
    "#     'User-Agent': 'Mozilla/5.0 (Windows NT 10.0; …) Gecko/20100101 Firefox/66.0',\n",
    "# }\n",
    "header = {\n",
    "    'User-Agent': 'Mozilla/5.0 (Windows NT 10.0; rv:66.0) Gecko/20100101 Firefox/66.0',\n",
    "}\n",
    "s = requests.Session()\n",
    "\n",
    "ip_pool = [                  #  设置一个 代理池 \n",
    "    '111.177.166.166',\n",
    "    '163.204.243.192',\n",
    "    '140.143.246.163',\n",
    "    '45.125.32.182',\n",
    "    '118.187.58.35',\n",
    "    '114.113.220.158',\n",
    "]\n",
    "agent_ip = random.choice(ip_pool)\n",
    "response = s.get(url=url,headers=header,proxies={'http':'120.194.18.90:81'},timeout=None)\n",
    "# 解决 UnicodeEncodeError Exception  /////默认是 当前 OS 的编码 GBK,\n",
    "response.encoding = 'gb2312'   \n",
    "pg_text = response.text\n",
    "# pg_text.encode('gb2312').decode('utf-8')\n",
    "\n",
    "with open('agent.html','w',) as f:\n",
    "    f.write(pg_text)\n",
    "    "
   ]
  },
  {
   "cell_type": "code",
   "execution_count": null,
   "metadata": {},
   "outputs": [],
   "source": [
    "# ，因为 TCP 数据包重传窗口 (TCP packet retransmission window) 的默认大小是 3\n",
    "\n",
    "# r = requests.get('https://github.com', timeout=5)\n",
    "\n",
    "# 这一 timeout 值将会用作 connect 和 read 二者的 timeout。如果要分别制定，就传入一个元组：\n",
    "\n",
    "# r = requests.get('https://github.com', timeout=(3.05, 27))\n",
    "\n",
    "# 如果要永远等待，只需传入一个None\n",
    "\n",
    "# r = requests.get('https://github.com', timeout=None)\n",
    "\n",
    "#     1\n",
    "\n",
    "# 二、错误与异常\n",
    "# 1、遇到网络问题（如：DNS 查询失败、拒绝连接等）时，Requests 会抛出一个 ConnectionError 异常。\n",
    "# 2、如果 HTTP 请求返回了不成功的状态码， Response.raise_for_status() 会抛出一个 HTTPError 异常。\n",
    "# 3、若请求超时，则抛出一个 Timeout 异常。\n",
    "# 4、若请求超过了设定的最大重定向次数，则会抛出一个 TooManyRedirects 异常。\n",
    "# 5、所有Requests显式抛出的异常都继承自 requests.exceptions.RequestException "
   ]
  }
 ],
 "metadata": {
  "kernelspec": {
   "display_name": "Python 3",
   "language": "python",
   "name": "python3"
  },
  "language_info": {
   "codemirror_mode": {
    "name": "ipython",
    "version": 3
   },
   "file_extension": ".py",
   "mimetype": "text/x-python",
   "name": "python",
   "nbconvert_exporter": "python",
   "pygments_lexer": "ipython3",
   "version": "3.7.3"
  }
 },
 "nbformat": 4,
 "nbformat_minor": 2
}
