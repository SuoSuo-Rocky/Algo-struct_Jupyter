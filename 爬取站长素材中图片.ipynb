{
 "cells": [
  {
   "cell_type": "code",
   "execution_count": 1,
   "metadata": {},
   "outputs": [
    {
     "name": "stdout",
     "output_type": "stream",
     "text": [
      "tupian/zzpic17931_s.jpg 获取成功\n",
      "tupian/bpic11480_s.jpg 获取成功\n",
      "tupian/zzpic16720_s.jpg 获取成功\n",
      "tupian/bpic10826_s.jpg 获取成功\n",
      "tupian/bpic10729_s.jpg 获取成功\n",
      "tupian/bpic10810_s.jpg 获取成功\n",
      "tupian/bpic10729_s.jpg 获取成功\n",
      "tupian/zzpic16687_s.jpg 获取成功\n",
      "tupian/bpic10515_s.jpg 获取成功\n",
      "tupian/zzpic16194_s.jpg 获取成功\n",
      "tupian/zzpic16077_s.jpg 获取成功\n",
      "tupian/bpic10351_s.jpg 获取成功\n",
      "tupian/bpic10292_s.jpg 获取成功\n",
      "tupian/bpic10262_s.jpg 获取成功\n",
      "tupian/zzpic16282_s.jpg 获取成功\n",
      "tupian/bpic10219_s.jpg 获取成功\n",
      "tupian/bpic10191_s.jpg 获取成功\n",
      "tupian/bpic10178_s.jpg 获取成功\n",
      "tupian/zzpic15771_s.jpg 获取成功\n",
      "tupian/bpic10173_s.jpg 获取成功\n",
      "tupian/bpic10163_s.jpg 获取成功\n",
      "tupian/bpic10149_s.jpg 获取成功\n",
      "tupian/hpic475_s.jpg 获取成功\n",
      "tupian/bpic10027_s.jpg 获取成功\n",
      "tupian/bpic10022_s.jpg 获取成功\n",
      "tupian/bpic9987_s.jpg 获取成功\n",
      "tupian/bpic9944_s.jpg 获取成功\n",
      "tupian/zzpic15470_s.jpg 获取成功\n",
      "tupian/hpic428_s.jpg 获取成功\n",
      "tupian/bpic9799_s.jpg 获取成功\n",
      "tupian/bpic9767_s.jpg 获取成功\n",
      "tupian/bpic9735_s.jpg 获取成功\n",
      "tupian/bpic9684_s.jpg 获取成功\n",
      "tupian/bpic9626_s.jpg 获取成功\n",
      "tupian/zzpic15561_s.jpg 获取成功\n",
      "tupian/bpic9596_s.jpg 获取成功\n",
      "tupian/zzpic15205_s.jpg 获取成功\n",
      "tupian/bpic9533_s.jpg 获取成功\n",
      "tupian/bpic9446_s.jpg 获取成功\n",
      "tupian/bpic9429_s.jpg 获取成功\n"
     ]
    }
   ],
   "source": [
    "import re\n",
    "import requests\n",
    "from urllib import request\n",
    "import os\n",
    "\n",
    "# 1.首先要检查数据是否是动态加载出来的\n",
    "# 2.获取页面源码数据\n",
    "if not os.path.exists('tupian'):\n",
    "    os.mkdir('tupian')\n",
    "headers = {\n",
    "   \"User-Agent\" : \"Mozilla/5.0 (Macintosh; Intel Mac OS X 10_14_1) AppleWebKit/537.36 (KHTML, like Gecko) Chrome/71.0.3578.98 Safari/537.36\"\n",
    "}\n",
    "url = \"http://sc.chinaz.com/tupian/bingxueshijie.html\"\n",
    "page = requests.get(url=url, headers=headers) \n",
    "page.encoding='utf8'  # 先解决乱码问题\n",
    "page_text=page.text   # .text拿到html文本\n",
    "\n",
    "ex = '<div class=\"box picblock col3\".*?src2=\"(.*?)\".*?</p>.*?</div>'  \n",
    "img_url_list = re.findall(ex, page_text, re.S)  # 正则匹配\n",
    "\n",
    "for img_url in img_url_list:\n",
    "    img_path = 'tupian/' + img_url.split(\"/\")[-1]  # 本地存放的文件路径\n",
    "    \n",
    "    request.urlretrieve(url=img_url, filename=img_path)\n",
    "    print(img_path , \"获取成功\")"
   ]
  }
 ],
 "metadata": {
  "kernelspec": {
   "display_name": "Python 3",
   "language": "python",
   "name": "python3"
  },
  "language_info": {
   "codemirror_mode": {
    "name": "ipython",
    "version": 3
   },
   "file_extension": ".py",
   "mimetype": "text/x-python",
   "name": "python",
   "nbconvert_exporter": "python",
   "pygments_lexer": "ipython3",
   "version": "3.7.3"
  }
 },
 "nbformat": 4,
 "nbformat_minor": 2
}
