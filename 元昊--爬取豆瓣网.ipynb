{
 "cells": [
  {
   "cell_type": "code",
   "execution_count": null,
   "metadata": {},
   "outputs": [],
   "source": [
    "import requests\n",
    "\n",
    "import re\n",
    "import json\n",
    "\n",
    "def getPage(url):\n",
    "\n",
    "    response=requests.get(url)\n",
    "    return response.text\n",
    "\n",
    "def parsePage(s):\n",
    "\n",
    "    com=re.compile('<div class=\"item\">.*?<div class=\"pic\">.*?<em .*?>(?P<id>\\d+).*?<span class=\"title\">(?P<title>.*?)</span>'\n",
    "                   '.*?<span class=\"rating_num\" .*?>(?P<rating_num>.*?)</span>.*?<span>(?P<comment_num>.*?)评价</span>',re.S)\n",
    "\n",
    "    ret=com.finditer(s)\n",
    "    for i in ret:\n",
    "        yield {\n",
    "            \"id\":i.group(\"id\"),\n",
    "            \"title\":i.group(\"title\"),\n",
    "            \"rating_num\":i.group(\"rating_num\"),\n",
    "            \"comment_num\":i.group(\"comment_num\"),\n",
    "        }\n",
    "\n",
    "def main(num):\n",
    "\n",
    "    url='https://movie.douban.com/top250?start=%s&filter='%num\n",
    "    response_html=getPage(url)\n",
    "    ret=parsePage(response_html)\n",
    "    print(ret)\n",
    "    f=open(\"move_info7\",\"a\",encoding=\"utf8\")\n",
    "\n",
    "    for obj in ret:\n",
    "        print(obj)\n",
    "        data=json.dumps(obj,ensure_ascii=False)\n",
    "        f.write(data+\"\\n\")\n",
    "\n",
    "if __name__ == '__main__':\n",
    "    count=0\n",
    "    for i in range(10):\n",
    "        main(count)\n",
    "        count+=25"
   ]
  }
 ],
 "metadata": {
  "kernelspec": {
   "display_name": "Python 3",
   "language": "python",
   "name": "python3"
  },
  "language_info": {
   "codemirror_mode": {
    "name": "ipython",
    "version": 3
   },
   "file_extension": ".py",
   "mimetype": "text/x-python",
   "name": "python",
   "nbconvert_exporter": "python",
   "pygments_lexer": "ipython3",
   "version": "3.7.3"
  }
 },
 "nbformat": 4,
 "nbformat_minor": 2
}
