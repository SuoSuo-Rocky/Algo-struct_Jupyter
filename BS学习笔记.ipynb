{
 "cells": [
  {
   "cell_type": "markdown",
   "metadata": {
    "toc": true
   },
   "source": [
    "<h1>Table of Contents<span class=\"tocSkip\"></span></h1>\n",
    "<div class=\"toc\"><ul class=\"toc-item\"></ul></div>"
   ]
  },
  {
   "cell_type": "code",
   "execution_count": 126,
   "metadata": {},
   "outputs": [],
   "source": [
    "html_doc = \"\"\"\n",
    "<html><head><title>The Dormouse's story</title></head>\n",
    "<body>\n",
    "<p class=\"title\"><b>The Dormouse's story</b></p>\n",
    "\n",
    "<p class=\"story\">Once upon a time there were three little sisters; and their names were\n",
    "<a href=\"http://example.com/elsie\" class=\"sister\" id=\"link1\">Elsie</a>,\n",
    "<a href=\"http://example.com/lacie\" class=\"sister\" id=\"link2\">Lacie</a> and\n",
    "<a href=\"http://example.com/tillie\" class=\"sister\" id=\"link3\">Tillie</a>;\n",
    "<a href=\"http://baidu.com\" class=\"shiwei\" id=\"wanganshi\"><!--Hello World! --></a>\n",
    "and they lived at the bottom of a well.</p>\n",
    "\n",
    "<p class=\"story\">...</p>\n",
    "\"\"\""
   ]
  },
  {
   "cell_type": "code",
   "execution_count": 161,
   "metadata": {},
   "outputs": [
    {
     "data": {
      "text/plain": [
       "[<a class=\"shiwei\" href=\"http://baidu.com\" id=\"wanganshi\"><!--Hello World! --></a>]"
      ]
     },
     "execution_count": 161,
     "metadata": {},
     "output_type": "execute_result"
    }
   ],
   "source": [
    "from bs4 import BeautifulSoup\n",
    "soup = BeautifulSoup(html_doc)\n",
    "# print(soup.prettify())             # 格式化输入 soup 对象的内容\n",
    "\n",
    "# print(type(soup.a))    # <class 'bs4.element.Tag'>\n",
    "\n",
    "# print(soup.a.attrs)   # {'href': 'http://example.com/elsie', 'class': ['sister'], 'id': 'link1'}\n",
    "# print(type(soup.a.attrs))  # <class 'dict'>\n",
    "\n",
    "# print(soup.a['ids'])  # 以中括号的方式获取  Tag 对象不存在的属性值 则报错\n",
    "# print(soup.a.get('ids'))  # 以 get(key,default) 方法获取不存在的属性 默认 返回 None,显式可指定 第二个参数\n",
    "\n",
    "# soup.a['id'] = 'shiwei'   #  修改 以存在的 属性值\n",
    "# soup.a['ids'] = 'shiwei'  # 添加新的 属性值\n",
    "# del soup.a['id']  #  删除 已存在的 param\n",
    "# print(soup.a.get('id'))\n",
    "\n",
    "# soup.a.string  # 获取 tag internal 的 文字 , 去除注释符号\n",
    "# type(soup.a.string)  # bs4.element.NavigableString\n",
    "# soup.p.string      #  获取 此标签 的 线性后代最内一层文本内容，后代必须是线性 单传，且 只能最内一层有文本内容，否则结果为空\n",
    "\n",
    "# soup.body.contents  # 获取 此 Tag 的直系子节点， 返回列表，可索引 和 切片\n",
    "# soup.body.contents[0:3]\n",
    "\n",
    "# soup.body.children  # return <list_iterator at 0x7185050>  此 Tag 的直系子节点\n",
    "\n",
    "# for s in soup.body.children:      # 遍历 列表 迭代器\n",
    "#     print(s)\n",
    "\n",
    "# 获取所有子孙节点\n",
    "# soup.body.descendants    # return <generator object Tag.descendants at 0x06E642F0> 返回 生成器对象\n",
    "# soup.descendants  # 默认返回 html 的 所有子孙节点 ， 嵌套型的\n",
    "\n",
    "# 搜索\n",
    "# soup.find_all(name=None,)    #代表标签名，值:字符串、 Regex、 列表\n",
    "# soup.find_all('p')   # 查找所有的 'p' Tag，return <class 'list'>\n",
    "# soup.find_all(['a','p'])    # all <s> and <p>\n",
    "\n",
    "# soup.find_all(attrs={})  # 根据 attr 来查找，\n",
    "# soup.find_all(id='link1')  # id 为 ‘link1’的 Tag\n",
    "# soup.find_all(id=['link1','link3'])  #   id  存在于此列表\n",
    "# soup.find_all(attrs={\"id\":'link1',\"class\":'shiwei'})  # 标签属性 满足 此属性字典 attrs 的 Tag\n",
    "\n",
    "# soup.find_all(text=None) # 根据 字符串 内容 来定位 Tag\n",
    "soup.find_all()\n",
    "\n",
    "\n",
    "\n",
    "\n",
    "\n",
    "\n",
    "\n",
    "\n",
    "\n"
   ]
  }
 ],
 "metadata": {
  "kernelspec": {
   "display_name": "Python 3",
   "language": "python",
   "name": "python3"
  },
  "language_info": {
   "codemirror_mode": {
    "name": "ipython",
    "version": 3
   },
   "file_extension": ".py",
   "mimetype": "text/x-python",
   "name": "python",
   "nbconvert_exporter": "python",
   "pygments_lexer": "ipython3",
   "version": "3.7.1rc1"
  },
  "toc": {
   "base_numbering": 1,
   "nav_menu": {},
   "number_sections": true,
   "sideBar": true,
   "skip_h1_title": false,
   "title_cell": "Table of Contents",
   "title_sidebar": "Contents",
   "toc_cell": true,
   "toc_position": {
    "height": "calc(100% - 180px)",
    "left": "10px",
    "top": "150px",
    "width": "165px"
   },
   "toc_section_display": true,
   "toc_window_display": false
  }
 },
 "nbformat": 4,
 "nbformat_minor": 2
}
