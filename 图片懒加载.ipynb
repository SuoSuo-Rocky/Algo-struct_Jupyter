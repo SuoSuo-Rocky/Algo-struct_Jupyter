{
 "cells": [
  {
   "cell_type": "markdown",
   "metadata": {},
   "source": [
    "## jupyter  notebook : 设置 密码的 代码： \n",
    "- from notebook.auth import passwd\n",
    "- passwd(）"
   ]
  },
  {
   "cell_type": "code",
   "execution_count": 4,
   "metadata": {},
   "outputs": [],
   "source": [
    "import requests\n",
    "from lxml import etree\n",
    "import os\n",
    "import urllib\n"
   ]
  },
  {
   "cell_type": "code",
   "execution_count": 1,
   "metadata": {},
   "outputs": [],
   "source": [
    "# 图片懒加载：  src2 是 一个 伪属性， \n",
    "# 目的为 ： 门户网站的优化， 避免所有图片一次 全加载，造成卡顿 ，可视化时再加载，\n",
    "# 当图片处于 可视化区域中间时， 就会触发一个事件，动态将 图片img 标签的属性名 src2 改变为 src \n",
    "# 解决方法: 写 xpath 时改为  \"/@src2\"\n"
   ]
  },
  {
   "cell_type": "code",
   "execution_count": null,
   "metadata": {},
   "outputs": [],
   "source": [
    "# 爬取 站长素材中的 图片 ， 图片的 属性 src 时 动态加载的， 不可见时 是伪属性 src2 \n",
    "# requqests 爬取到的 页面 源码就是 没有 展示的，就是没有加载的， 图片 URL 属性 都为 伪属性\n",
    "url = 'http://sc.chinaz.com/tupian/'\n",
    "headers = {\n",
    "    'User-Agent': 'Mozilla/5.0 (Windows NT 10.0; rv:66.0) Gecko/20100101 Firefox/66.0',\n",
    "}\n",
    "response = requests.get(url=url,headers=headers)\n",
    "response.encoding = 'utf-8'\n",
    "pg_text = response.text\n",
    "tree = etree.HTML(pg_text)\n",
    "img_url_list = tree.xpath('//div[@id=\"container\"]/div/div/a/img')\n",
    "\n",
    "if not os.path.exists('./zhanzhang'):\n",
    "    os.mkdir('./zhanzhang')\n",
    "\n",
    "for img in img_url_list:\n",
    "    img_url = img.xpath('./@src2')[0]\n",
    "    img_name ='./zhanzhang/'+ str(img_url).split('/')[-1]\n",
    "    urllib.request.urlretrieve(url=img_url,filename=img_name)\n",
    "    print(img_name +'下载成功!')\n",
    "print('over')\n"
   ]
  }
 ],
 "metadata": {
  "kernelspec": {
   "display_name": "Python 3",
   "language": "python",
   "name": "python3"
  },
  "language_info": {
   "codemirror_mode": {
    "name": "ipython",
    "version": 3
   },
   "file_extension": ".py",
   "mimetype": "text/x-python",
   "name": "python",
   "nbconvert_exporter": "python",
   "pygments_lexer": "ipython3",
   "version": "3.7.3"
  }
 },
 "nbformat": 4,
 "nbformat_minor": 2
}
