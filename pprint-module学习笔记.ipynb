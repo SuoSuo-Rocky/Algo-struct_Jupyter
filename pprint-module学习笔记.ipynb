{
 "cells": [
  {
   "cell_type": "markdown",
   "metadata": {
    "toc": true
   },
   "source": [
    "<h1>Table of Contents<span class=\"tocSkip\"></span></h1>\n",
    "<div class=\"toc\"><ul class=\"toc-item\"></ul></div>"
   ]
  },
  {
   "cell_type": "code",
   "execution_count": null,
   "metadata": {},
   "outputs": [],
   "source": [
    "from pprint import pprint  \n",
    "data = [ (1, { 'a':'A', 'b':'B', 'c':'C', 'd':'D' }),\n",
    "         (2, { 'e':'E', 'f':'F', 'g':'G', 'h':'H',\n",
    "           'i':'I', 'j':'J', 'k':'K', 'l':'L',\n",
    "           }),\n",
    "         ]\n",
    "pprint(data,width=30)  # 格式化文本 输出 \n"
   ]
  },
  {
   "cell_type": "code",
   "execution_count": 18,
   "metadata": {},
   "outputs": [
    {
     "name": "stdout",
     "output_type": "stream",
     "text": [
      "['one', 'two']\n"
     ]
    }
   ],
   "source": [
    "shi = None\n",
    "hai = list(shi or ['one','two'])\n",
    "print(hai)"
   ]
  },
  {
   "cell_type": "code",
   "execution_count": 23,
   "metadata": {},
   "outputs": [
    {
     "name": "stdout",
     "output_type": "stream",
     "text": [
      "/static/.*\n"
     ]
    }
   ],
   "source": [
    "import re\n",
    "static_url_prefix = r'/static/'\n",
    "res = re.escape(static_url_prefix) + r'.*'\n",
    "print(res)"
   ]
  },
  {
   "cell_type": "code",
   "execution_count": 24,
   "metadata": {},
   "outputs": [
    {
     "name": "stdout",
     "output_type": "stream",
     "text": [
      "{'path': 'static'}\n"
     ]
    }
   ],
   "source": [
    "path = 'static'\n",
    "shi = dict(path=path)\n",
    "print(shi)"
   ]
  },
  {
   "cell_type": "code",
   "execution_count": 30,
   "metadata": {},
   "outputs": [
    {
     "name": "stdout",
     "output_type": "stream",
     "text": [
      "['one', 'two', 'three', ('one', 'two')]\n"
     ]
    }
   ],
   "source": [
    "shi = [r'one','two','three']\n",
    "shi.append(('one','two'))\n",
    "print(shi)"
   ]
  },
  {
   "cell_type": "code",
   "execution_count": null,
   "metadata": {},
   "outputs": [],
   "source": [
    "handlers = [\n",
    "    (re.escape(static_url_prefix) + r\"(.*)\", StaticFileHandler,dict(path=path)),  # '/static/.*',*****,{path:'static'}\n",
    "    (r\"/(favicon\\.ico)\", StaticFileHandler, dict(path=path)),\n",
    "    (r\"/(robots\\.txt)\", StaticFileHandler, dict(path=path)),\n",
    "    (r\"/login.html\", LoginHandler),\n",
    "    (r\"/\", MainHandler),\n",
    "]\n",
    "pattern,handler,kwargs\n"
   ]
  },
  {
   "cell_type": "code",
   "execution_count": 37,
   "metadata": {},
   "outputs": [
    {
     "name": "stdout",
     "output_type": "stream",
     "text": [
      "/static/.\n",
      "0\n"
     ]
    }
   ],
   "source": [
    "# web 1574\n",
    "import re\n",
    "pattern = re.compile('/static/.*')\n",
    "shi = pattern.pattern  #  /static/.*\n",
    "wei = pattern.groups  # 有几个分组\n",
    "print(shi[:-1]) #  /static/.\n",
    "print(wei)\n"
   ]
  },
  {
   "cell_type": "code",
   "execution_count": null,
   "metadata": {},
   "outputs": [],
   "source": [
    "web : 1590\n",
    "'/shiwei/(wang)/(mei)/san.html'  -----> '/shiwei/%s/%s/san.html'"
   ]
  },
  {
   "cell_type": "code",
   "execution_count": 1,
   "metadata": {},
   "outputs": [
    {
     "name": "stdout",
     "output_type": "stream",
     "text": [
      "['one', 'two', ['shiwei', 'next']]\n"
     ]
    }
   ],
   "source": [
    "handler = []\n",
    "wei = ['one','two',handler]\n",
    "handler.append('shiwei')\n",
    "handler.append('next')\n",
    "print(wei)\n"
   ]
  },
  {
   "cell_type": "markdown",
   "metadata": {},
   "source": [
    "$e^{i\\pi} + 1 = 0$"
   ]
  },
  {
   "cell_type": "markdown",
   "metadata": {},
   "source": [
    "$$e^x=\\sum_{i=0}^\\infty \\frac{1}{i!}x^i$$"
   ]
  },
  {
   "cell_type": "markdown",
   "metadata": {},
   "source": [
    "<img src=\"https://jupyter.org/assets/nav_logo.svg\" style=\"width:100px;height:100px;float:left\">"
   ]
  },
  {
   "cell_type": "markdown",
   "metadata": {},
   "source": [
    "<video controls src=\"../images/animation.m4v\" />"
   ]
  },
  {
   "cell_type": "code",
   "execution_count": 45,
   "metadata": {},
   "outputs": [
    {
     "name": "stdout",
     "output_type": "stream",
     "text": [
      "22\n"
     ]
    }
   ],
   "source": [
    "shiwei = !dir\n",
    "print(len(shiwei))\n"
   ]
  }
 ],
 "metadata": {
  "kernelspec": {
   "display_name": "Python 3",
   "language": "python",
   "name": "python3"
  },
  "language_info": {
   "codemirror_mode": {
    "name": "ipython",
    "version": 3
   },
   "file_extension": ".py",
   "mimetype": "text/x-python",
   "name": "python",
   "nbconvert_exporter": "python",
   "pygments_lexer": "ipython3",
   "version": "3.7.1rc1"
  },
  "toc": {
   "base_numbering": 1,
   "nav_menu": {
    "height": "204px",
    "width": "218.333px"
   },
   "number_sections": true,
   "sideBar": true,
   "skip_h1_title": false,
   "title_cell": "Table of Contents",
   "title_sidebar": "Contents",
   "toc_cell": true,
   "toc_position": {},
   "toc_section_display": true,
   "toc_window_display": false
  }
 },
 "nbformat": 4,
 "nbformat_minor": 2
}
