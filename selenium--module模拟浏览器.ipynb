{
 "cells": [
  {
   "cell_type": "code",
   "execution_count": null,
   "metadata": {},
   "outputs": [],
   "source": [
    "# 浏览器自动化 ： 使用代码来操作 浏览器\n",
    "\n",
    "# 第一步:\n",
    "     # 环境安装 : pip install selenium\n",
    "     # 编码流程 : \n",
    "            - 导包;\n",
    "            - 实例化某一款 浏览器对象(以 Chrome为例) (依赖本地安装的浏览器)\n",
    "                    - 官网: https://www.seleniumhq.org/\n",
    "            - http://chromedriver.storage.googleapis.com/index.html\n",
    "               - 下载 的驱动程序必须和浏览器的版本统一 ，参考网址: \n",
    "                    - https://blog.csdn.net/huilan_same/article/details/51896672\n",
    "            - 自定制 自动化操作代码 :\n",
    "                        \n"
   ]
  },
  {
   "cell_type": "markdown",
   "metadata": {},
   "source": [
    "## 模拟百度搜索"
   ]
  },
  {
   "cell_type": "code",
   "execution_count": null,
   "metadata": {},
   "outputs": [],
   "source": [
    "from selenium import webdriver\n",
    "import time\n",
    "browser = webdriver.Chrome(executable_path=r\"C:\\Users\\Administrator\\3D Objects\\Jupyter__Project\\chromedriver.exe\")\n",
    "browser.get(url='https://www.baidu.com/')\n",
    "# 定位 一个 页面 中标签元素\n",
    "text_input = browser.find_element_by_id('kw')\n",
    "#  向此标签 元素 填充 文本 内容\n",
    "text_input.send_keys('美少女战士')\n",
    "# 点击标签， 触发 Click 事件 \n",
    "browser.find_element_by_id('su').click()\n",
    "                                        \n",
    "time.sleep(2)\n",
    "# 获取当前 页面的 源码数据\n",
    "print(browser.page_source)\n",
    "# 此selenium 模块 所获取到的 页面 源码数据 是 包含动态加载的数据的，基于浏览器\n",
    "        # 相比 requests 模块这是一大亮点\n",
    "\n",
    "browser.close()  # 或者 是 browser.quit()\n"
   ]
  },
  {
   "cell_type": "markdown",
   "metadata": {},
   "source": [
    "## 获取 豆瓣电影 中更多的 电影详情数据"
   ]
  },
  {
   "cell_type": "code",
   "execution_count": 12,
   "metadata": {},
   "outputs": [],
   "source": [
    "# 获取 豆瓣电影 中更多的 电影详情数据\n",
    "from selenium import webdriver\n",
    "from selenium.webdriver.common.by import By #按照什么方式查找，By.ID,By.CSS_SELECTOR\n",
    "import time\n",
    "url = 'https://movie.douban.com/explore#!type=movie&tag=%E7%83%AD%E9%97%A8&sort=recommend&page_limit=20&page_start=0'\n",
    "\n",
    "browser = webdriver.Chrome(executable_path=r'chromedriver.exe')\n",
    "\n",
    "browser.get(url)\n",
    "time.sleep(3)\n",
    "# 执行 javaScript 脚本代码——————向下拖动滚轮 满屏\n",
    "# bro.execute_script(\"window.scrollTo(0,document.body.scrollHeight)\")\n",
    "# 通过 Xpath  来定位 元素 \n",
    "more = browser.find_element_by_xpath('/html/body/div[3]/div[1]/div/div[1]/div/div[4]/a')\n",
    "\n",
    "for i in range(5):\n",
    "    more.click()  # 点击 <a> 标签按钮 \n",
    "    time.sleep(3)\n",
    "all_movie_url = browser.find_elements(By.CSS_SELECTOR,'.list-wp .list a')\n",
    "detail_url = []\n",
    "for s in all_movie_url:\n",
    "    url = s.get_attribute('href')\n",
    "    detail_url.append(url)\n",
    "\n",
    "all_movie_name = browser.find_elements(By.CSS_SELECTOR,'.list-wp .list a div img')\n",
    "all_name = []\n",
    "for s in all_movie_name:\n",
    "    name = s.get_attribute('alt')\n",
    "    all_name.append(name)\n",
    "all_movie_score = browser.find_elements(By.CSS_SELECTOR,'.list-wp .list a p strong')\n",
    "all_score = []\n",
    "for s in all_movie_score:\n",
    "    score = s.text\n",
    "    all_score.append(score)\n",
    "with open('douban_movie.txt','w',encoding='utf-8') as f:\n",
    "    for s in range(len(detail_url)):\n",
    "        movie = 'url:'+detail_url[s]+';\\tname:'+all_name[s]+';\\tscore:'+all_score[s]+';\\r\\n'\n",
    "        f.write(movie)\n"
   ]
  },
  {
   "cell_type": "markdown",
   "metadata": {},
   "source": [
    "## Chrome 的 无头浏览器的 参数设置 "
   ]
  },
  {
   "cell_type": "code",
   "execution_count": 3,
   "metadata": {},
   "outputs": [],
   "source": [
    "# Chrome 的 无头浏览器的 参数设置 \n",
    "from selenium import webdriver\n",
    "from selenium.webdriver.chrome.options import Options\n",
    "import time\n",
    "#  创建 一个 参数对象， 用来控制 谷歌 浏览器 以 无界面打开\n",
    "chrome_options = Options()\n",
    "chrome_options.add_argument(\"--headless\")\n",
    "chrome_options.add_argument('--disable-gpu')\n",
    "# 驱动路径\n",
    "path = \"chromedriver.exe\"\n",
    "# 创建 浏览器对象\n",
    "browser = webdriver.Chrome(executable_path=path,options=chrome_options)\n",
    "\n",
    "url = 'http://www.baidu.com'\n",
    "browser.get(url)\n",
    "time.sleep(5)\n",
    "browser.save_screenshot(\"baidu.png\")  # 网页截屏 函数\n",
    "browser.quit()\n"
   ]
  },
  {
   "cell_type": "markdown",
   "metadata": {},
   "source": [
    "## 使用 PhantomJS 无头浏览器"
   ]
  },
  {
   "cell_type": "code",
   "execution_count": null,
   "metadata": {},
   "outputs": [],
   "source": [
    "# 使用 PhantomJS 无头浏览器\n",
    "from selenium import webdriver\n",
    "import time\n",
    "phan_url = r'E:\\爬虫组件下载\\selenium\\PhantomJS\\phantomjs-2.1.1-windows\\bin\\phantomjs.exe'\n",
    "\n",
    "browser = webdriver.Chrome(executable_path=phan_url)\n",
    "url = 'http://www.baidu.com'\n",
    "browser.get(url)\n",
    "time.sleep(3)\n",
    "browser.execute_script('window.scrollTo(0,document.body.scrollHeight)')\n",
    "time.sleep(3)\n",
    "browser.execute_script('window.scrollTo(0,document.body.scrollHeight)')\n",
    "time.sleep(3)\n",
    "browser.execute_script('window.scrollTo(0,document.body.scrollHeight)')\n",
    "time.sleep(3)\n",
    "\n",
    "# 爬取 当前 页面 加载的 源码\n",
    "page_text = browser.page_source\n",
    "\n",
    "with open('baidu.html','w',encoding='utf-8') as f:\n",
    "    f.write(page_text)\n",
    "    \n",
    "print('over')\n",
    "time.sleep(1)\n",
    "browser.quit()\n",
    "\n",
    "\n"
   ]
  }
 ],
 "metadata": {
  "kernelspec": {
   "display_name": "Python 3",
   "language": "python",
   "name": "python3"
  },
  "language_info": {
   "codemirror_mode": {
    "name": "ipython",
    "version": 3
   },
   "file_extension": ".py",
   "mimetype": "text/x-python",
   "name": "python",
   "nbconvert_exporter": "python",
   "pygments_lexer": "ipython3",
   "version": "3.7.3"
  }
 },
 "nbformat": 4,
 "nbformat_minor": 2
}
