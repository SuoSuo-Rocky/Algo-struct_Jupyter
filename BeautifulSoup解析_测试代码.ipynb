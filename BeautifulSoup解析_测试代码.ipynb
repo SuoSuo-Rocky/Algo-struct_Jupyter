{
 "cells": [
  {
   "cell_type": "markdown",
   "metadata": {
    "toc": true
   },
   "source": [
    "<h1>Table of Contents<span class=\"tocSkip\"></span></h1>\n",
    "<div class=\"toc\"><ul class=\"toc-item\"></ul></div>"
   ]
  },
  {
   "cell_type": "code",
   "execution_count": 2,
   "metadata": {},
   "outputs": [],
   "source": [
    "from bs4 import BeautifulSoup\n",
    "import requests"
   ]
  },
  {
   "cell_type": "code",
   "execution_count": 105,
   "metadata": {},
   "outputs": [
    {
     "data": {
      "text/plain": [
       "'/img/touch-icon-iphone.png'"
      ]
     },
     "execution_count": 105,
     "metadata": {},
     "output_type": "execute_result"
    }
   ],
   "source": [
    "url = 'https://huaban.com/favorite/diy_crafts/?jvrsq8r6&max=2434046655&limit=20&wfl=1'\n",
    "header = {\n",
    "    'User-Agent': \"Mozilla/5.0 (Windows NT 10.0; Win64; x64; rv:66.0) Gecko/20100101 Firefox/66.0\",\n",
    "}\n",
    "pg_text = requests.get(url=url,headers=header).text\n",
    "# print(pg_text)\n",
    "shiwei = BeautifulSoup(pg_text,'lxml')\n",
    "# shiwei.a\n",
    "##获取属性\n",
    "# shiwei.a.attrs\n",
    "# shiwei.a.attrs['title']\n",
    "# shiwei.a['title']\n",
    "## 获取内容\n",
    "# type(shiwei.link.string ) \n",
    "# type(shiwei.head.text)\n",
    "# shiwei.head.get_text()\n",
    "# if shiwei.head.text == shiwei.head.get_text():\n",
    "#     print(\"OK\")\n",
    "# shiwei.head.get_text()\n",
    "\n",
    "\n",
    "# shiwei.find('a')\n",
    "# type(shiwei.find('a'))\n",
    "# shiwei.find('a',class_='off')\n",
    "# type(shiwei.find('a',class_='off'))\n",
    "\n",
    "# shiwei.find_all('a')\n",
    "# type(shiwei.find_all('a'))\n",
    "# shiwei.a.text  \n",
    "\n",
    "# shiwei.find_all(['a','div'],limit=2)\n",
    "# type(shiwei.find_all(['a','div']))\n",
    "\n",
    "shiwei.select(\"head link\")[0]['href']\n",
    "\n",
    "\n"
   ]
  }
 ],
 "metadata": {
  "kernelspec": {
   "display_name": "Python 3",
   "language": "python",
   "name": "python3"
  },
  "language_info": {
   "codemirror_mode": {
    "name": "ipython",
    "version": 3
   },
   "file_extension": ".py",
   "mimetype": "text/x-python",
   "name": "python",
   "nbconvert_exporter": "python",
   "pygments_lexer": "ipython3",
   "version": "3.7.1rc1"
  },
  "toc": {
   "base_numbering": 1,
   "nav_menu": {},
   "number_sections": true,
   "sideBar": true,
   "skip_h1_title": false,
   "title_cell": "Table of Contents",
   "title_sidebar": "Contents",
   "toc_cell": true,
   "toc_position": {},
   "toc_section_display": true,
   "toc_window_display": false
  }
 },
 "nbformat": 4,
 "nbformat_minor": 2
}
