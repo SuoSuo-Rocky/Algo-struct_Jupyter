{
 "cells": [
  {
   "cell_type": "markdown",
   "metadata": {},
   "source": [
    "## 分析:    "
   ]
  },
  {
   "cell_type": "markdown",
   "metadata": {},
   "source": [
    "- 1、需要处理验证码(滑动验证不属于验证码)\n",
    "- 2、需要处理 Cookie \n",
    "- 3、需要抓取登录请求 URL，登录请求一般为 Ajax post请求，浏览器一般抓不到\n",
    "- 4、需要获知登录请求头中的一些陌生的键所对应的值。"
   ]
  },
  {
   "cell_type": "markdown",
   "metadata": {},
   "source": [
    "### 一、验证码的处理:"
   ]
  },
  {
   "cell_type": "markdown",
   "metadata": {},
   "source": [
    "- 相关的门户网站在进行登录的时候，如果用户连续登录的次数超过3次或者5次的时候，就会在登录页中动态生成验码。通过验证码达到分流和反爬的效果"
   ]
  },
  {
   "cell_type": "markdown",
   "metadata": {},
   "source": [
    "#### 使用云打码平台识别验证码\n",
    "云打码平台处理验证码的实现流程："
   ]
  },
  {
   "cell_type": "markdown",
   "metadata": {},
   "source": [
    "- 1.对携带验证码的页面数据进行抓取\n",
    "- 2.可以将页面数据中验证码进行解析，验证码图片下载到本地\n",
    "- 3.可以将验证码图片提交给三方平台进行识别，返回验证码图片上的数据值\n",
    "    - 云打码平台：\n",
    "        - 1.在官网中进行注册（普通用户和开发者用户）\n",
    "        - 2.登录开发者用户：\n",
    "            - 1.实例代码的下载（开发文档-》调用实例及最新的DLL-》PythonHTTP实例下载）\n",
    "            - 2.创建一个软件：我的软件-》添加新的软件\n",
    "        -3.使用示例代码中的源码文件中的代码进行修改，让其识别验证码图片中的数据值"
   ]
  },
  {
   "cell_type": "markdown",
   "metadata": {},
   "source": [
    "### 云打码 pythonHTTP调用实例代码展示:"
   ]
  },
  {
   "cell_type": "code",
   "execution_count": null,
   "metadata": {},
   "outputs": [],
   "source": [
    "import http.client, mimetypes, urllib, json, time, requests\n",
    "\n",
    "######################################################################\n",
    "\n",
    "class YDMHttp:\n",
    "\n",
    "    apiurl = 'http://api.yundama.com/api.php'\n",
    "    username = ''\n",
    "    password = ''\n",
    "    appid = ''\n",
    "    appkey = ''\n",
    "\n",
    "    def __init__(self, username, password, appid, appkey):\n",
    "        self.username = username  \n",
    "        self.password = password\n",
    "        self.appid = str(appid)\n",
    "        self.appkey = appkey\n",
    "\n",
    "    def request(self, fields, files=[]):\n",
    "        response = self.post_url(self.apiurl, fields, files)\n",
    "        response = json.loads(response)\n",
    "        return response\n",
    "    \n",
    "    def balance(self):\n",
    "        data = {'method': 'balance', 'username': self.username, 'password': self.password, 'appid': self.appid, 'appkey': self.appkey}\n",
    "        response = self.request(data)\n",
    "        if (response):\n",
    "            if (response['ret'] and response['ret'] < 0):\n",
    "                return response['ret']\n",
    "            else:\n",
    "                return response['balance']\n",
    "        else:\n",
    "            return -9001\n",
    "    \n",
    "    def login(self):\n",
    "        data = {'method': 'login', 'username': self.username, 'password': self.password, 'appid': self.appid, 'appkey': self.appkey}\n",
    "        response = self.request(data)\n",
    "        if (response):\n",
    "            if (response['ret'] and response['ret'] < 0):\n",
    "                return response['ret']\n",
    "            else:\n",
    "                return response['uid']\n",
    "        else:\n",
    "            return -9001\n",
    "\n",
    "    def upload(self, filename, codetype, timeout):\n",
    "        data = {'method': 'upload', 'username': self.username, 'password': self.password, 'appid': self.appid, 'appkey': self.appkey, 'codetype': str(codetype), 'timeout': str(timeout)}\n",
    "        file = {'file': filename}\n",
    "        response = self.request(data, file)\n",
    "        if (response):\n",
    "            if (response['ret'] and response['ret'] < 0):\n",
    "                return response['ret']\n",
    "            else:\n",
    "                return response['cid']\n",
    "        else:\n",
    "            return -9001\n",
    "\n",
    "    def result(self, cid):\n",
    "        data = {'method': 'result', 'username': self.username, 'password': self.password, 'appid': self.appid, 'appkey': self.appkey, 'cid': str(cid)}\n",
    "        response = self.request(data)\n",
    "        return response and response['text'] or ''\n",
    "\n",
    "    def decode(self, filename, codetype, timeout):\n",
    "        cid = self.upload(filename, codetype, timeout)\n",
    "        if (cid > 0):\n",
    "            for i in range(0, timeout):\n",
    "                result = self.result(cid)\n",
    "                if (result != ''):\n",
    "                    return cid, result\n",
    "                else:\n",
    "                    time.sleep(1)\n",
    "            return -3003, ''\n",
    "        else:\n",
    "            return cid, ''\n",
    "\n",
    "    def report(self, cid):\n",
    "        data = {\n",
    "                    'method': 'report',\n",
    "                    'username': self.username,\n",
    "                    'password': self.password,\n",
    "                    'appid': self.appid,\n",
    "                    'appkey': self.appkey,\n",
    "                    'cid': str(cid),\n",
    "                    'flag': '0'\n",
    "               }\n",
    "        response = self.request(data)\n",
    "        if (response):\n",
    "            return response['ret']\n",
    "        else:\n",
    "            return -9001\n",
    "\n",
    "    def post_url(self, url, fields, files=[]):\n",
    "        for key in files:\n",
    "            files[key] = open(files[key], 'rb');\n",
    "        res = requests.post(url, files=files, data=fields)\n",
    "        return res.text\n",
    "\n",
    "######################################################################"
   ]
  },
  {
   "cell_type": "code",
   "execution_count": null,
   "metadata": {},
   "outputs": [],
   "source": [
    "# 封装 云打码 示例代码 为一个函数，\n",
    "def get_codeData(userName,pwd,codePath,codeType):\n",
    "    \"\"\"\n",
    "        codePath: 图片地址\n",
    "        codeType: 验证码类型\n",
    "        \n",
    "    \"\"\"\n",
    "    # 用户名(普通用户)\n",
    "    username    = userName\n",
    "\n",
    "    # 密码\n",
    "    password    = pwd                            \n",
    "\n",
    "    # 软件ＩＤ，开发者分成必要参数。登录开发者后台【我的软件】获得！\n",
    "    appid       = 7788                                     \n",
    "\n",
    "    # 软件密钥，开发者分成必要参数。登录开发者后台【我的软件】获得！\n",
    "    appkey      = '12caf92090f726e010f41807397b2302'    \n",
    "\n",
    "    # 图片文件\n",
    "    filename    = codePath                        \n",
    "\n",
    "    # 验证码类型，# 例：1004表示4位字母数字，不同类型收费不同。请准确填写，否则影响识别率。\n",
    "    # 在此查询所有类型 http://www.yundama.com/price.html\n",
    "    codetype    = codeType\n",
    "\n",
    "    # 超时时间，秒\n",
    "    timeout     = 30                                   \n",
    "    result = None\n",
    "    # 检查\n",
    "    if (username == 'username'):\n",
    "        print('请设置好相关参数再测试')\n",
    "    else:\n",
    "        # 初始化\n",
    "        yundama = YDMHttp(username, password, appid, appkey)\n",
    "\n",
    "        # 登陆云打码\n",
    "        uid = yundama.login();\n",
    "        print('uid: %s' % uid)\n",
    "\n",
    "        # 查询余额\n",
    "        balance = yundama.balance();\n",
    "        print('balance: %s' % balance)\n",
    "\n",
    "        # 开始识别，图片路径，验证码类型ID，超时时间（秒），识别结果\n",
    "        cid, result = yundama.decode(filename, codetype, timeout);\n",
    "        print('cid: %s, result: %s' % (cid, result))\n",
    "    return result\n",
    "\n",
    "######################################################################"
   ]
  },
  {
   "cell_type": "markdown",
   "metadata": {},
   "source": [
    "### 二、Cookie 的处理:"
   ]
  },
  {
   "cell_type": "markdown",
   "metadata": {},
   "source": [
    "- requests 模块对于Cookie 的处理已做好了封装，即 session 对象。\n",
    "    - session = requests.Session() \n",
    "    - 遇到 有 处理 Cookie 的 URL请求，想都不用想，直接使用 session 对象发请求，get 和 post 都可以\n",
    "    - 因为 session 对象会自动保存此次请求所产生的 Cookie,且在后期的请求中 自动携带，非常方便。"
   ]
  },
  {
   "cell_type": "markdown",
   "metadata": {},
   "source": [
    "### 三、抓取 登录 URL:"
   ]
  },
  {
   "cell_type": "markdown",
   "metadata": {},
   "source": [
    "- 使用 Fiddler 抓包工具，此工具为一个 中间代理，请求和响应 的 URL 都要经过此代理 \n",
    "    - 注意: 在 运行爬虫代码时，一定要关闭 此 Fiddler 抓包工具。 切记， 切记， 切记"
   ]
  },
  {
   "cell_type": "markdown",
   "metadata": {},
   "source": [
    "### 四、获取登录请求头 中陌生的键所对应的值："
   ]
  },
  {
   "cell_type": "markdown",
   "metadata": {},
   "source": [
    "- 1、 有些键所对应的值 隐藏在页面源代码中的隐藏 标签中，可以去搜一下，\n",
    "- 2、 有些键可以根据字面意思猜测，否则就只能 一个一个的尝试了"
   ]
  },
  {
   "cell_type": "markdown",
   "metadata": {},
   "source": [
    "<h2>案例 一:</h2>"
   ]
  },
  {
   "cell_type": "markdown",
   "metadata": {},
   "source": [
    "### 使用云打码--模拟登录人人网，爬取登录成功后的个人详情页的 源码数据:"
   ]
  },
  {
   "cell_type": "code",
   "execution_count": null,
   "metadata": {},
   "outputs": [],
   "source": [
    "#  人人网的 模拟 登录\n",
    "import requests\n",
    "import urllib\n",
    "from lxml import etree\n",
    "# 下载 验证码\n",
    "headers = {\n",
    "    'User-Agent': 'Mozilla/5.0 (Windows NT 10.0; rv:66.0) Gecko/20100101 Firefox/66.0',\n",
    "}\n",
    "url = 'http://www.renren.com/'\n",
    "response = requests.get(url=url,headers=headers)\n",
    "page_text = response.text\n",
    "\n",
    "tree = etree.HTML(page_text)\n",
    "# 完整 的URL 不需要做 拼接\n",
    "img_url = tree.xpath('//*[@id=\"verifyPic_login\"]/@src')[0]  # * 代表 任意一个标签 , 通配符\n",
    "\n",
    "# session = requests.Session()\n",
    "# img_data = session.get(url=img_url,headers=headers).content\n",
    "\n",
    "# 第二次 出现的错误， urlretrieve  后多 加了 'e'\n",
    "urllib.request.urlretrieve(url=img_url,filename='verify.jpg')  \n",
    "\n",
    "# 识别验证码 中的 数据\n",
    "code_data = get_codeData('suosuo','718094','./verify.jpg',2004)\n",
    "\n",
    "# 只有在登录成功以后才有 Cookie ,登录时没有 \n",
    "# 模拟登录\n",
    "login_url = 'http://www.renren.com/ajaxLogin/login?1=1&uniqueTimestamp=2019411448190'\n",
    "# 以下 data 中的 各键的 值， 抓取 一个登录成功的请求， 参数修改成相应的值， 就OK 了\n",
    "data = {\n",
    "    \"email\": \"45621242\",\n",
    "    \"icode\": code_data,\n",
    "    \"origURL\": \"http://www.renren.com/home\",\n",
    "    \"domain\": \"renren.com\",\n",
    "    \"key_id\": \"1\",\n",
    "    \"captcha_type\": \"web_login\",\n",
    "    \"password\": \"0ab50f9a959e7aae59a8d8b42152e3f52a0ecfccf36c15a06c98e45c7d\",\n",
    "    \"rkey\": \"f9d7f9455a1343a026ef777002769f4c\",\n",
    "    \"f\": \"\",\n",
    "}\n",
    "# 获取 Session 对象，每次请求自动保存Cookie, 且自动携带前期产生的 Cookie \n",
    "session = requests.Session()  \n",
    "main_text = session.post(url=login_url,data=data,headers=headers).text\n",
    "# Cookie  : 记录客户端 的状态， 应用: 免名登录\n",
    "# 比 单独的 把 Cookie 封装在 headers 中要好。\n",
    "\n",
    "# 爬取 登录 成功 后个人 详情页 的 URL \n",
    "self_url = \"http://www.renren.com/452124512/profile\"\n",
    "self_page_text = session.get(url=self_url,headers=headers).text\n",
    "\n",
    "with open('renren.html','w',encoding='utf-8') as f:\n",
    "    f.write(self_page_text)"
   ]
  },
  {
   "cell_type": "markdown",
   "metadata": {},
   "source": [
    "## 案例 二:"
   ]
  },
  {
   "cell_type": "markdown",
   "metadata": {},
   "source": [
    "### 使用云打码， 模拟登录古诗文网， 爬取登录成功后的个人首页的页面源代码"
   ]
  },
  {
   "cell_type": "code",
   "execution_count": null,
   "metadata": {},
   "outputs": [],
   "source": [
    "\n",
    "url = 'https://so.gushiwen.org/user/login.aspx?from=http://so.gushiwen.org/user/collect.aspx'\n",
    "headers = {\n",
    "    'User-Agent': 'Mozilla/5.0 (Windows NT 10.0; rv:66.0) Gecko/20100101 Firefox/66.0',\n",
    "}\n",
    "\n",
    "# 爬取登录页面源码 ， 以 获得 验证码的 URL \n",
    "response = requests.get(url=url,headers=headers)\n",
    "pg_text = response.text\n",
    "\n",
    "# 运用 Xpath 表达式 获得 验证码图片的 URL \n",
    "tree = etree.HTML(pg_text)\n",
    "verify_url ='https://so.gushiwen.org'+ tree.xpath('//*[@id=\"imgCode\"]/@src')[0]\n",
    "session = requests.Session()\n",
    "verify_data = session.get(url=verify_url,headers=headers).content\n",
    "\n",
    "with open('./verify.jpg','wb') as f:\n",
    "    f.write(verify_data)\n",
    "# 解析 验证码\n",
    "code_data = get_codeData('suosuo','718094','./verify.jpg',1004)  # 四位英文数字\n",
    "# 登录 URL , \n",
    "submit_url = 'https://so.gushiwen.org/user/login.aspx?from=http%3a%2f%2fso.gushiwen.org%2fuser%2fcollect.aspx'\n",
    "\n",
    "# __VIEWSTATE 和  __VIEWSTATEGENERATOR 的值 一般放置在 页面源码的 隐藏标签中存储。\n",
    "data = {\n",
    "    \"__VIEWSTATE\": \"IttZTgX6+gCZ1FTV7bkt7BeLZd3vSlpVGemhyX3W1PAqtfAjI7PUyhG5NwmU16J7nTkNYsBYHtjqG7XCf037K0OMlJNh00gTMey6dOPsXPoupXOl5VKzaq+dPAA=\",\n",
    "    \"__VIEWSTATEGENERATOR\": \"C93BE1AE\",\n",
    "    \"from\": \"http://so.gushiwen.org/user/collect.aspx\",\n",
    "    \"email\": \"16603312116\",\n",
    "    \"pwd\": \"718094\",\n",
    "    \"code\": code_data,\n",
    "    \"denglu\": \"登录\",\n",
    "}\n",
    "#爬取 个人 登录成功的 个人首页\n",
    "self_text = session.post(url=submit_url,data=data,headers=headers).content\n",
    "\n",
    "with open('modern.html','wb') as f:\n",
    "    f.write(self_text)\n",
    "print('登录成功！')\n",
    "\n"
   ]
  }
 ],
 "metadata": {
  "kernelspec": {
   "display_name": "Python 3",
   "language": "python",
   "name": "python3"
  },
  "language_info": {
   "codemirror_mode": {
    "name": "ipython",
    "version": 3
   },
   "file_extension": ".py",
   "mimetype": "text/x-python",
   "name": "python",
   "nbconvert_exporter": "python",
   "pygments_lexer": "ipython3",
   "version": "3.7.1rc1"
  }
 },
 "nbformat": 4,
 "nbformat_minor": 2
}
