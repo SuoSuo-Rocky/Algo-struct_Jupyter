{
 "cells": [
  {
   "cell_type": "code",
   "execution_count": 6,
   "metadata": {},
   "outputs": [],
   "source": [
    "## 爬取站长素材中的简历模板\n",
    "import requests\n",
    "from lxml import etree\n",
    "import os\n",
    "import urllib\n",
    "import random"
   ]
  },
  {
   "cell_type": "code",
   "execution_count": null,
   "metadata": {},
   "outputs": [
    {
     "name": "stdout",
     "output_type": "stream",
     "text": [
      "./简历模板/护理面试简历模版下载.rar下载成功\n",
      "./简历模板/体育教师电子版简历模板下载.rar下载成功\n",
      "./简历模板/电子版个人简洁简历下载.rar下载成功\n",
      "./简历模板/汽修实习生个人简历模板.rar下载成功\n",
      "./简历模板/毕业学生实习简历模板.rar下载成功\n",
      "./简历模板/酒店入职简历模板.rar下载成功\n",
      "./简历模板/本科生应届简历模板.rar下载成功\n",
      "./简历模板/会计简历封面模板免费下载.rar下载成功\n",
      "./简历模板/护理专业简历模板样本.rar下载成功\n",
      "./简历模板/优秀医生个人简历范文.rar下载成功\n",
      "./简历模板/英文个人简历word模板下载.rar下载成功\n",
      "./简历模板/助产简历封面模板.rar下载成功\n",
      "./简历模板/大学应届生简历模板下载.rar下载成功\n",
      "./简历模板/生产总监求职简历模板.rar下载成功\n",
      "./简历模板/餐饮简历模板下载空白.rar下载成功\n",
      "./简历模板/汽车服务顾问简历模板.rar下载成功\n"
     ]
    }
   ],
   "source": [
    "\n",
    "header = {\n",
    "    'Connection': 'close',  # 当请求 成功后， 马上断开该次请求， (及时释放请求池中的资源)\n",
    "    'User-Agent': 'Mozilla/5.0 (Windows NT 10.0; rv:66.0) Gecko/20100101 Firefox/66.0',\n",
    "}\n",
    "if not os.path.exists('./简历模板'):\n",
    "    os.mkdir('./简历模板')\n",
    "url_template = 'http://sc.chinaz.com/jianli/free_{}.html'\n",
    "for s in range(50,51):                                #  设置 爬取的 页面的张数 ，且循环\n",
    "    url = url_template.format(s)\n",
    "    if s == 1:\n",
    "        url = \"http://sc.chinaz.com/jianli/free.html\"\n",
    "    try:\n",
    "        response = requests.get(url=url,headers=header)           # 爬取众多简历模板页面 的源码\n",
    "        # response.encoding = 'utf-8'                             # 解决中文 乱码方案一\n",
    "        pg_text = response.text\n",
    "        tree = etree.HTML(pg_text)                                # 生成 众多简历模板页面源码 tree 对象\n",
    "        div_list = tree.xpath('//div[@id=\"container\"]/div')       # 获得 众多简历所对应的 div 列表\n",
    "        for div in div_list:                                    # 循环 每一张 简历 所对应的 div 元素\n",
    "            detail_url = div.xpath('./a/@href')[0]               # 获得 此 简历 的 详情页的 url \n",
    "            name = div.xpath('./a/img/@alt')[0]                  # 获得 此简历 的 名称\n",
    "            name = name.encode('iso-8859-1').decode('utf-8')      # 解决中文 乱码方案 二 （推荐）\n",
    "\n",
    "            detail_pg = requests.get(url=detail_url,headers=header).text  # 爬取 简历 详情页 的源码\n",
    "            detail_tree = etree.HTML(detail_pg)                         # 生成 简历详情页源码 的 tree 对象\n",
    "            #  获得 此简历详情页的 众多下载地址的 url 列表\n",
    "            download_list = detail_tree.xpath('//div[@class=\"clearfix mt20 downlist\"]/ul/li/a/@href')\n",
    "\n",
    "            download_url = random.choice(download_list)     # 随机 获得一个 此简历的 下载地址 url \n",
    "            data = requests.get(url=download_url,headers=header).content   # 爬取 此简历\n",
    "            file_name ='./简历模板/'+name+'.rar'\n",
    "            with open(file_name,'wb') as f:\n",
    "                f.write(data)\n",
    "            print(file_name + '下载成功')\n",
    "            f.close()\n",
    "    except Exception as f:\n",
    "        print(f)\n",
    "        continue\n",
    "print('over')\n",
    "\n",
    "        \n",
    "        \n",
    "        \n",
    "        \n",
    "    "
   ]
  }
 ],
 "metadata": {
  "kernelspec": {
   "display_name": "Python 3",
   "language": "python",
   "name": "python3"
  },
  "language_info": {
   "codemirror_mode": {
    "name": "ipython",
    "version": 3
   },
   "file_extension": ".py",
   "mimetype": "text/x-python",
   "name": "python",
   "nbconvert_exporter": "python",
   "pygments_lexer": "ipython3",
   "version": "3.7.3"
  }
 },
 "nbformat": 4,
 "nbformat_minor": 2
}
