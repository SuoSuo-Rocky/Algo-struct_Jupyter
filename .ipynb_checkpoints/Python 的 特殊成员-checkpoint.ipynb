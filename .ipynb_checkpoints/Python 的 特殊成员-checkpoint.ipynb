{
 "cells": [
  {
   "cell_type": "code",
   "execution_count": null,
   "metadata": {},
   "outputs": [],
   "source": [
    "class son:\n",
    "    age = 200\n",
    "    name = \"son\"\n",
    "    def __call__(self, *args, **kwargs):\n",
    "        print('call is name=',self.name)\n",
    "\n",
    "    def __init__(self):\n",
    "        print('init is name=',self.name)\n",
    "\n",
    "    def __new__(cls, *args, **kwargs):\n",
    "        print('new is name=',cls.name)\n",
    "        print(cls.name)\n",
    "        return object.__new__(cls)\n",
    "\n",
    "        # return super(son, cls).__new__(cls)\n",
    "    def get_age(self):\n",
    "        print(self.age)\n",
    "shi = son()\n",
    "shi()"
   ]
  },
  {
   "cell_type": "code",
   "execution_count": 8,
   "metadata": {},
   "outputs": [
    {
     "name": "stdout",
     "output_type": "stream",
     "text": [
      "268390064\n",
      "268390064\n",
      "a= 200\n",
      "b= 100\n",
      "268391664\n",
      "15411392\n",
      "a= 200\n",
      "b= 300\n"
     ]
    }
   ],
   "source": [
    "a = 100\n",
    "b = a\n",
    "print(id(a))\n",
    "print(id(b))\n",
    "a = 200\n",
    "print('a=',a)\n",
    "print('b=',b)\n",
    "b = 300 \n",
    "print(id(a))\n",
    "print(id(b))\n",
    "print('a=',a)\n",
    "print('b=',b)\n",
    "\n"
   ]
  }
 ],
 "metadata": {
  "kernelspec": {
   "display_name": "Python 3",
   "language": "python",
   "name": "python3"
  },
  "language_info": {
   "codemirror_mode": {
    "name": "ipython",
    "version": 3
   },
   "file_extension": ".py",
   "mimetype": "text/x-python",
   "name": "python",
   "nbconvert_exporter": "python",
   "pygments_lexer": "ipython3",
   "version": "3.7.1rc1"
  }
 },
 "nbformat": 4,
 "nbformat_minor": 2
}
