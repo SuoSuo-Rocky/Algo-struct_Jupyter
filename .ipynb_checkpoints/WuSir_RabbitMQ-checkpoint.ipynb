{
 "cells": [
  {
   "cell_type": "code",
   "execution_count": null,
   "metadata": {},
   "outputs": [],
   "source": [
    "https://blog.csdn.net/hellozpc/article/details/81436980\n",
    "https://www.cnblogs.com/alex3714/articles/5248247.html\n",
    "    \n",
    "    https://blog.csdn.net/u012486840/article/details/52788758\n",
    "        https://blog.csdn.net/u012240455/article/details/81841276\n",
    "# 添加 用户并分配角色 \n",
    "rabbitmqctl add_user name password\n",
    "rabbitmqctl set_user_tags name administrator\n",
    "\n",
    "# 设置 用户 权限\n",
    "rabbitmqctl set_permissions -p / name \".*\" \".*\" \".*\"\n",
    "\n",
    "# 查看 队列 信息\n",
    "rabbitmqctl list_queues"
   ]
  },
  {
   "cell_type": "code",
   "execution_count": null,
   "metadata": {},
   "outputs": [],
   "source": [
    "#  发送端， 生产者 \n",
    "channel.queue_declare(queue='hello')\n",
    "\n",
    "# n RabbitMQ a message can never be sent directly to the queue, it always needs to go through an exchange.\n",
    "channel.basic_publish(exchange='',\n",
    "                      routing_key='hello',\n",
    "                      body='Hello World!')\n",
    "print(\" [x] Sent 'Hello World!'\")\n",
    "connection.close()"
   ]
  },
  {
   "cell_type": "code",
   "execution_count": null,
   "metadata": {},
   "outputs": [],
   "source": [
    "# 消费者 ， 接收端\n",
    "\n",
    "import pika\n",
    "import time\n",
    "\n",
    "credentials = pika.PlainCredentials('shiwei', 'shiwei666666')\n",
    "connection = pika.BlockingConnection(pika.ConnectionParameters(host='localhost', credentials=credentials))\n",
    "\n",
    "channel = connection.channel()\n",
    "\n",
    "# You may ask why we declare the queue again ‒ we have already declared it in our previous code.\n",
    "# We could avoid that if we were sure that the queue already exists. For example if send.py program\n",
    "# was run before. But we're not yet sure which program to run first. In such cases it's a good\n",
    "# practice to repeat declaring the queue in both programs.\n",
    "channel.queue_declare(queue='hello')\n",
    "\n",
    "\n",
    "def callback(ch, method, properties, body):\n",
    "\n",
    "    print(\"received msg...start processing....\",body)\n",
    "    time.sleep(5)\n",
    "    print(\" [x] msg process done....\",body)\n",
    "\n",
    "channel.basic_consume(on_message_callback=callback, queue='hello', )\n",
    "\n",
    "\n",
    "print(' [*] Waiting for messages. To exit press CTRL+C')\n",
    "channel.start_consuming()"
   ]
  }
 ],
 "metadata": {
  "kernelspec": {
   "display_name": "Python 3",
   "language": "python",
   "name": "python3"
  },
  "language_info": {
   "codemirror_mode": {
    "name": "ipython",
    "version": 3
   },
   "file_extension": ".py",
   "mimetype": "text/x-python",
   "name": "python",
   "nbconvert_exporter": "python",
   "pygments_lexer": "ipython3",
   "version": "3.7.3"
  }
 },
 "nbformat": 4,
 "nbformat_minor": 2
}
