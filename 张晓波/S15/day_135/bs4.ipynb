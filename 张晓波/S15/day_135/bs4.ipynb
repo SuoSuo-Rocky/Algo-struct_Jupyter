{
 "cells": [
  {
   "cell_type": "markdown",
   "metadata": {},
   "source": [
    "- bs4解析:\n",
    "    1.pii install bs4\n",
    "    2.pip install lxml\n",
    "    \n",
    "- 解析原理:\n",
    "    - 1.将即将要进行解析的源码加载到bs对象\n",
    "    - 2.调用bs对象中相关的方法或属性进行源码中的相关标签的定位\n",
    "    - 3.将定位到的标签之间存在的文本或者属性值获取"
   ]
  },
  {
   "cell_type": "code",
   "execution_count": 1,
   "metadata": {},
   "outputs": [],
   "source": [
    "import requests\n",
    "from bs4 import BeautifulSoup"
   ]
  },
  {
   "cell_type": "code",
   "execution_count": null,
   "metadata": {},
   "outputs": [],
   "source": [
    "url = 'http://www.shicimingju.com/book/sanguoyanyi.html'\n",
    "headers = {\n",
    "    'User-Agent':'Mozilla/5.0 (Windows NT 6.1; Win64; x64) AppleWebKit/537.36 (KHTML, like Gecko) Chrome/72.0.3626.119 Safari/537.36'\n",
    "}\n",
    "page_text = requests.get(url=url,headers=headers).text\n",
    "\n",
    "soup = BeautifulSoup(page_text,'lxml')\n",
    "\n",
    "a_list = soup.select('.book-mulu > ul > li > a')\n",
    "\n",
    "fp = open('sanguo.txt','w',encoding='utf-8')\n",
    "for a in a_list:\n",
    "    title = a.string\n",
    "    detail_url = 'http://www.shicimingju.com'+a['href']\n",
    "    detail_page_text = requests.get(url=detail_url,headers=headers).text\n",
    "    \n",
    "    soup = BeautifulSoup(detail_page_text,'lxml')\n",
    "    content = soup.find('div',class_='chapter_content').text\n",
    "    \n",
    "    fp.write(title+'\\n'+content)\n",
    "    print(title,'下载完毕')\n",
    "print('over')\n",
    "fp.close()\n",
    "   "
   ]
  }
 ],
 "metadata": {
  "kernelspec": {
   "display_name": "Python 3",
   "language": "python",
   "name": "python3"
  },
  "language_info": {
   "codemirror_mode": {
    "name": "ipython",
    "version": 3
   },
   "file_extension": ".py",
   "mimetype": "text/x-python",
   "name": "python",
   "nbconvert_exporter": "python",
   "pygments_lexer": "ipython3",
   "version": "3.7.1rc1"
  }
 },
 "nbformat": 4,
 "nbformat_minor": 2
}
