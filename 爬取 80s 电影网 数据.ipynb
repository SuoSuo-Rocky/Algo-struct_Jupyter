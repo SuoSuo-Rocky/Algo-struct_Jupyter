{
 "cells": [
  {
   "cell_type": "code",
   "execution_count": 45,
   "metadata": {},
   "outputs": [],
   "source": [
    "import requests\n",
    "from bs4 import BeautifulSoup\n",
    "import os\n",
    "import urllib\n",
    "from lxml import etree"
   ]
  },
  {
   "cell_type": "code",
   "execution_count": null,
   "metadata": {},
   "outputs": [],
   "source": [
    "url = 'http://www.80s.la/ju/25614'\n",
    "headers = {\n",
    "    'User-Agent': 'Mozilla/5.0 (Windows NT 10.0; rv:66.0) Gecko/20100101 Firefox/66.0'\n",
    "}\n",
    "pg_text = requests.get(url=url,headers=headers).text\n",
    "soup = BeautifulSoup(pg_text,'lxml')\n",
    "li_list01 = soup.find_all('li',class_=\"clearfix dlurlelement\")\n",
    "li_list02 = soup.find_all('li',class_='clearfix dlurlelement backcolor1')\n",
    "li_list = []\n",
    "local_url_list = []\n",
    "xunlei_url_list = []\n",
    "li_list.extend(list(li_list01))\n",
    "li_list.extend(list(li_list02))\n",
    "# print(len(li_list))\n",
    "for s in li_list:\n",
    "    try:\n",
    "        url = s.find('a',title=\"本地下载\")['href']\n",
    "        local_url_list.append(url)\n",
    "    except Exception as f:\n",
    "        print('本地 链接 跳过一个')\n",
    "        continue\n",
    "for m in li_list:\n",
    "    try:\n",
    "        url = m.find('A')['href']\n",
    "#         url = span.find('A')['href']\n",
    "        xunlei_url_list,append(url)\n",
    "    except Exception as f:\n",
    "        print('迅雷 链接 跳过一个')\n",
    "        continue\n",
    "   \n",
    "# urllib.request.urlretrieve(url=local_url_list[0],filename=\"one.mp4\")\n",
    "print(xunlei_url_list)\n",
    "so = soup.a\n",
    "print(so)\n",
    "\n"
   ]
  },
  {
   "cell_type": "code",
   "execution_count": 62,
   "metadata": {},
   "outputs": [
    {
     "name": "stdout",
     "output_type": "stream",
     "text": [
      "20\n",
      "[]\n",
      "[]\n",
      "[]\n",
      "[]\n",
      "[]\n",
      "[]\n",
      "[]\n",
      "[]\n",
      "[]\n",
      "[]\n",
      "[]\n",
      "[]\n",
      "[]\n",
      "[]\n",
      "[]\n",
      "[]\n",
      "[]\n",
      "[]\n",
      "[]\n",
      "[]\n"
     ]
    }
   ],
   "source": [
    "# 使用 Xpath  表达式 来解析\n",
    "\n",
    "url = 'http://www.80s.la/ju/25614'\n",
    "headers = {\n",
    "    'User-Agent': 'Mozilla/5.0 (Windows NT 10.0; rv:66.0) Gecko/20100101 Firefox/66.0'\n",
    "}\n",
    "session = requests.Session()\n",
    "pg_text = session.get(url=url,headers=headers).text\n",
    "tree = etree.HTML(pg_text)\n",
    "span_list = tree.xpath('//span[@class=\"xunlei dlbutton1\"]')\n",
    "print(len(span_list))\n",
    "for s in span_list:\n",
    "    url = s.xpath('./A')\n",
    "    print(url)"
   ]
  }
 ],
 "metadata": {
  "kernelspec": {
   "display_name": "Python 3",
   "language": "python",
   "name": "python3"
  },
  "language_info": {
   "codemirror_mode": {
    "name": "ipython",
    "version": 3
   },
   "file_extension": ".py",
   "mimetype": "text/x-python",
   "name": "python",
   "nbconvert_exporter": "python",
   "pygments_lexer": "ipython3",
   "version": "3.7.3"
  }
 },
 "nbformat": 4,
 "nbformat_minor": 2
}
