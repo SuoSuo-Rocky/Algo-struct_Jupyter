{
 "cells": [
  {
   "cell_type": "code",
   "execution_count": 1,
   "metadata": {},
   "outputs": [],
   "source": [
    "import requests\n",
    "from lxml import etree\n",
    "import urllib\n",
    "import os"
   ]
  },
  {
   "cell_type": "code",
   "execution_count": null,
   "metadata": {},
   "outputs": [],
   "source": [
    "## 解析城市名称\n",
    "url = 'https://www.aqistudy.cn/historydata/'\n",
    "header = {\n",
    "    'User-Agent': 'Mozilla/5.0 (Windows NT 10.0; rv:66.0) Gecko/20100101 Firefox/66.0',\n",
    "}\n",
    "pg_text = requests.get(url=url,headers=header).text\n",
    "tree = etree.HTML(pg_text)\n",
    "li_list = tree.xpath('//div[@class=\"bottom\"]/ul/li | //div[@class=\"bottom\"]/ul/div[2]/li')\n",
    "\n",
    "for s,i in enumerate(li_list,1):\n",
    "    city = i.xpath('./a/text()')[0]\n",
    "    city = str(city).strip()\n",
    "    if s%6:\n",
    "        print('%-14s'%city,end='')\n",
    "        continue\n",
    "    print('%s'%city)\n"
   ]
  }
 ],
 "metadata": {
  "kernelspec": {
   "display_name": "Python 3",
   "language": "python",
   "name": "python3"
  },
  "language_info": {
   "codemirror_mode": {
    "name": "ipython",
    "version": 3
   },
   "file_extension": ".py",
   "mimetype": "text/x-python",
   "name": "python",
   "nbconvert_exporter": "python",
   "pygments_lexer": "ipython3",
   "version": "3.7.3"
  }
 },
 "nbformat": 4,
 "nbformat_minor": 2
}
