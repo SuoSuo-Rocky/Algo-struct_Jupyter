{
 "cells": [
  {
   "cell_type": "code",
   "execution_count": 6,
   "metadata": {},
   "outputs": [],
   "source": [
    "## 爬取站长素材中的简历模板\n",
    "import requests\n",
    "from lxml import etree\n",
    "import os\n",
    "import urllib\n",
    "import random"
   ]
  },
  {
   "cell_type": "code",
   "execution_count": 14,
   "metadata": {},
   "outputs": [
    {
     "name": "stdout",
     "output_type": "stream",
     "text": [
      "./简历模板/高铁客运乘务简历模板.rar下载成功\n",
      "./简历模板/置业顾问电子版简历模板.rar下载成功\n",
      "./简历模板/党员教师个人简历表格下载.rar下载成功\n",
      "./简历模板/个人毕业简历模板下载.rar下载成功\n",
      "./简历模板/部队军人简历模版word下载.rar下载成功\n",
      "./简历模板/ 化妆师简历封面模板下载.rar下载成功\n",
      "./简历模板/银行客户经理简历模板.rar下载成功\n",
      "./简历模板/应聘文员的简历模板.rar下载成功\n",
      "./简历模板/实习护士个人简历模板下载.rar下载成功\n",
      "./简历模板/ 心理咨询师介绍模板.rar下载成功\n",
      "./简历模板/汽车维修应聘简历模板.rar下载成功\n",
      "./简历模板/事业单位招聘简历表格.rar下载成功\n",
      "./简历模板/电子商务专业就业简历模板.rar下载成功\n",
      "./简历模板/ 个人简历封面医学生.rar下载成功\n",
      "./简历模板/房地产市场策划助理简历模板.rar下载成功\n",
      "./简历模板/舞蹈个人简历封面下载.rar下载成功\n",
      "./简历模板/互联网营销简历自我评价.rar下载成功\n",
      "./简历模板/ 金融法律顾问实习简历模板.rar下载成功\n",
      "./简历模板/土建施工简历表格下载.rar下载成功\n",
      "./简历模板/咨询顾问助理简历模板.rar下载成功\n",
      "over\n"
     ]
    }
   ],
   "source": [
    "\n",
    "header = {\n",
    "    'Connection': 'close',  # 当请求 成功后， 马上断开该次请求， (及时释放请求池中的资源)\n",
    "    'User-Agent': 'Mozilla/5.0 (Windows NT 10.0; rv:66.0) Gecko/20100101 Firefox/66.0',\n",
    "}\n",
    "if not os.path.exists('./简历模板'):\n",
    "    os.mkdir('./简历模板')\n",
    "url_template = 'http://sc.chinaz.com/jianli/free_{}.html'\n",
    "for s in range(50,51):                                #  设置 爬取的 页面的张数 ，且循环\n",
    "    url = url_template.format(s)\n",
    "    if s == 1:\n",
    "        url = \"http://sc.chinaz.com/jianli/free.html\"\n",
    "    try:\n",
    "        response = requests.get(url=url,headers=header)           # 爬取众多简历模板页面 的源码\n",
    "        # response.encoding = 'utf-8'                             # 解决中文 乱码方案一\n",
    "        pg_text = response.text\n",
    "        tree = etree.HTML(pg_text)                                # 生成 众多简历模板页面源码 tree 对象\n",
    "        div_list = tree.xpath('//div[@id=\"container\"]/div')       # 获得 众多简历所对应的 div 列表\n",
    "        for div in div_list:                                    # 循环 每一张 简历 所对应的 div 元素\n",
    "            detail_url = div.xpath('./a/@href')[0]               # 获得 此 简历 的 详情页的 url \n",
    "            name = div.xpath('./a/img/@alt')[0]                  # 获得 此简历 的 名称\n",
    "            name = name.encode('iso-8859-1').decode('utf-8')      # 解决中文 乱码方案 二 （推荐）\n",
    "\n",
    "            detail_pg = requests.get(url=detail_url,headers=header).text  # 爬取 简历 详情页 的源码\n",
    "            detail_tree = etree.HTML(detail_pg)                         # 生成 简历详情页源码 的 tree 对象\n",
    "            #  获得 此简历详情页的 众多下载地址的 url 列表\n",
    "            download_list = detail_tree.xpath('//div[@class=\"clearfix mt20 downlist\"]/ul/li/a/@href')\n",
    "\n",
    "            download_url = random.choice(download_list)     # 随机 获得一个 此简历的 下载地址 url \n",
    "            data = requests.get(url=download_url,headers=header).content   # 爬取 此简历\n",
    "            file_name ='./简历模板/'+name+'.rar'\n",
    "            with open(file_name,'wb') as f:\n",
    "                f.write(data)\n",
    "            print(file_name + '下载成功')\n",
    "            f.close()\n",
    "    except Exception as f:\n",
    "        print(f)\n",
    "        continue\n",
    "print('over')\n",
    "\n",
    "        \n",
    "        \n",
    "        \n",
    "        \n",
    "    "
   ]
  }
 ],
 "metadata": {
  "kernelspec": {
   "display_name": "Python 3",
   "language": "python",
   "name": "python3"
  },
  "language_info": {
   "codemirror_mode": {
    "name": "ipython",
    "version": 3
   },
   "file_extension": ".py",
   "mimetype": "text/x-python",
   "name": "python",
   "nbconvert_exporter": "python",
   "pygments_lexer": "ipython3",
   "version": "3.7.3"
  }
 },
 "nbformat": 4,
 "nbformat_minor": 2
}
