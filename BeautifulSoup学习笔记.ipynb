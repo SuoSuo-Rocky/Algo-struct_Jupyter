{
 "cells": [
  {
   "cell_type": "code",
   "execution_count": 2,
   "metadata": {},
   "outputs": [],
   "source": [
    "from bs4 import BeautifulSoup\n",
    "import requests"
   ]
  },
  {
   "cell_type": "code",
   "execution_count": null,
   "metadata": {},
   "outputs": [],
   "source": [
    "## 使用流程： \n",
    "    - 导包：from bs4 import BeautifulSoup\n",
    "    - 使用方式：可以将一个html文档，转化为BeautifulSoup对象，然后通过对象的方法或者属性去查找指定的节点内容\n",
    "        （1）转化本地文件：\n",
    "             - soup = BeautifulSoup(open('本地文件'), 'lxml')\n",
    "        （2）转化网络文件：\n",
    "             - soup = BeautifulSoup('字符串类型或者字节类型', 'lxml')\n",
    "        （3）打印soup对象显示内容为html文件中的内容"
   ]
  },
  {
   "cell_type": "code",
   "execution_count": null,
   "metadata": {},
   "outputs": [],
   "source": [
    "        \n",
    "#### 根据标签名查找\n",
    "    - soup.a          # 找到DOM第一个符合要求的标签 :return <class 'bs4.element.Tag'>\n",
    "#### 获取属性\n",
    "    - soup.a.attrs    #获取 DOM 中 第一个符合要求的标签的 所有 属性值， return <class 'dict'>\n",
    "    - soup.a.attrs['href'] # 获取 DOM 中第一个符合要求的标签的 指定 属性值， return <class 'str'>\n",
    "        - 简写为 soup.a['href'] # 不存在此属性值 则报错\n",
    "#### 获取内容\n",
    "    - soup.a.string # \n",
    "    - soup.a.text #    , return <class 'str'>\n",
    "    - soup.a.get_text()\n",
    "#### find  找到DOM 中 第一个符合要求的标签\n",
    "    - soup.find('a')  # 获取第一个符合要求的 标签  return <bs4.element.Tag>\n",
    "    - soup.find('a',title='xxx') #      return <bs4.element.Tag>\n",
    "    - soup.find('a',alt='xxx') #     \n",
    "    - soup.find('a',class_='xxx') # 特别要注意  为 \"class_\"\n",
    "    - soup.find('a',id='xxx') #\n",
    "#### find_all: 找到所有符合要求的标签\n",
    "    - soup.find_all('a') #  return <bs4.element.ResultSet>\n",
    "    - soup.find_all(['a','div'])   # 查找所有的 <a> 和 <div> 标签  return <bs4.element.ResultSet>\n",
    "    - soup.find_all(['a','div'])   # 限制前两个\n",
    "#### 根据选择器选择指定的内容\n",
    "    - select:soup.select('#menu')\n",
    "    - 选择器为 css 中学习的，常用的有 ID 选择器， Class选择器， 标签选择器， 后代选择器， 子元素选择器(>)     \n",
    "  ##### select 选择器 返回的永远是列表， 需要通过下标提取指定的对象\n",
    "\n",
    "  \n",
    "    \n",
    "    \n",
    "    \n",
    "    \n",
    "    \n"
   ]
  },
  {
   "cell_type": "code",
   "execution_count": 14,
   "metadata": {},
   "outputs": [],
   "source": [
    "\n",
    "from bs4 import BeautifulSoup\n",
    "import requests\n",
    "\n",
    "url = 'http://www.shicimingju.com/book/sanguoyanyi.html'\n",
    "header = {\n",
    "    'User-Agent': 'Mozilla/5.0 (Windows NT 10.0; Win64; x64; rv:66.0) Gecko/20100101 Firefox/66.0',\n",
    "}\n",
    "pg_text = requests.get(url=url,headers=header).text      # requests 获得三国的 首页源码\n",
    "soup = BeautifulSoup(pg_text,'lxml')                     # 获得 首页 soup 对象\n",
    "chapter = soup.select('.book-mulu ul li a')              # 首页 soup 对象 中 的 select 对象 list \n",
    "f = open('sanguo_shiwei.text','w',encoding='utf-8')\n",
    "for item in chapter:\n",
    "    f.write(item.text)\n",
    "    suffix = item['href']                              # 写入 章节 的标题\n",
    "    chapter_url = \"http://www.shicimingju.com\" + suffix  # 构造 每章的 URL 地址\n",
    "    chapter_text = requests.get(url=chapter_url,headers=header).text    # requests  获得 章节页面的源码\n",
    "    chapter_soup = BeautifulSoup(chapter_text,'lxml')    # 获得 章节 页面的 soup 对象 \n",
    "# 方案一:\n",
    "#     section = chapter_soup.select('.chapter_content p')  # 获得 章节 soup 对象 中 的 select 对象 list\n",
    "#     for duan in section:\n",
    "#         f.write(duan.text+\"\\n\\n\\n\")                               # 写入 此章节中的 每一个 段落 \n",
    "# 方案二:\n",
    "    section_all = chapter_soup.find('div',class_='chapter_content').text\n",
    "    f.write(section_all+\"\\n\\n\\n\")\n",
    "    \n",
    "    \n",
    "\n"
   ]
  }
 ],
 "metadata": {
  "kernelspec": {
   "display_name": "Python 3",
   "language": "python",
   "name": "python3"
  },
  "language_info": {
   "codemirror_mode": {
    "name": "ipython",
    "version": 3
   },
   "file_extension": ".py",
   "mimetype": "text/x-python",
   "name": "python",
   "nbconvert_exporter": "python",
   "pygments_lexer": "ipython3",
   "version": "3.7.1rc1"
  },
  "toc": {
   "base_numbering": 1,
   "nav_menu": {},
   "number_sections": true,
   "sideBar": true,
   "skip_h1_title": false,
   "title_cell": "Table of Contents",
   "title_sidebar": "Contents",
   "toc_cell": false,
   "toc_position": {
    "height": "336.383px",
    "left": "548px",
    "top": "237.633px",
    "width": "226.7px"
   },
   "toc_section_display": true,
   "toc_window_display": false
  }
 },
 "nbformat": 4,
 "nbformat_minor": 2
}
