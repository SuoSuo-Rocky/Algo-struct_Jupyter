{
 "cells": [
  {
   "cell_type": "code",
   "execution_count": 1,
   "metadata": {},
   "outputs": [],
   "source": [
    "import time\n",
    "import random\n",
    "def cal_time(func):\n",
    "    def wrapper(*args,**kwargs):\n",
    "        start = time.time()\n",
    "        result = func(*args,**kwargs)\n",
    "        end = time.time()\n",
    "        print(\"%s--> running time is: %s\"%(func.__name__,end-start))\n",
    "        return result\n",
    "    return wrapper\n",
    "\n"
   ]
  },
  {
   "cell_type": "code",
   "execution_count": 2,
   "metadata": {},
   "outputs": [
    {
     "name": "stdout",
     "output_type": "stream",
     "text": [
      "3\n"
     ]
    }
   ],
   "source": [
    "#  任意 取 数字 对应的 位数 \n",
    "def get_digit(num,i):\n",
    "    \"\"\"\n",
    "    0: 个位\n",
    "    1: 十位\n",
    "    2: 百位， 依此类推\n",
    "    \"\"\"\n",
    "#     for i in range(i-1):\n",
    "#         num = num // 10\n",
    "#     return num % 10\n",
    "    return num // (10**i) % 10\n",
    "\n",
    "\n",
    "\n",
    "bin = get_digit(2364,2)\n",
    "print(bin)"
   ]
  },
  {
   "cell_type": "code",
   "execution_count": 3,
   "metadata": {},
   "outputs": [
    {
     "name": "stdout",
     "output_type": "stream",
     "text": [
      "[1, 2, 4, 5, 7, 8]\n"
     ]
    }
   ],
   "source": [
    "# 自定制 列表 元素 翻转 \n",
    "def self_reverse(li):\n",
    "    n = len(li)\n",
    "    for i in range(len(li)//2):\n",
    "#         li[i],li[-i-1] = li[-i-1],li[i]   # 或\n",
    "        li[i],li[n-i-1] = li[n-i-1],li[i]\n",
    "    return li\n",
    "\n",
    "\n",
    "\n",
    "# 将 整数 转化为 字符串 或者是 列表\n",
    "def int2list(num):\n",
    "    shiwei = []\n",
    "    while num > 0:\n",
    "        shiwei.append(num % 10)\n",
    "        num //= 10\n",
    "    return self_reverse(shiwei)\n",
    "\n",
    "print(int2list(124578))\n",
    "    \n",
    "    \n",
    "\n"
   ]
  },
  {
   "cell_type": "code",
   "execution_count": 11,
   "metadata": {},
   "outputs": [
    {
     "name": "stdout",
     "output_type": "stream",
     "text": [
      "-52\n",
      "-98\n"
     ]
    }
   ],
   "source": [
    "# 翻转 数字 输出， 注意 是 负数的 情况\n",
    "def reverse_int(num):\n",
    "    ex = False\n",
    "    if num < 0:\n",
    "        num = -num\n",
    "        ex = True\n",
    "    shiwei = []\n",
    "    \n",
    "#     while num > 0:\n",
    "#         shiwei.append(num % 10)\n",
    "#         num //= 10\n",
    "    shiwei = int2list(num)\n",
    "    res = shiwei[0]\n",
    "    for i in range(1,len(shiwei)):\n",
    "        res += shiwei[i] * (10 ** i)\n",
    "    if ex:\n",
    "        res = -res\n",
    "    return res\n",
    "print(reverse_int(-25000))\n",
    "\n",
    "\n",
    "\n",
    "\n",
    "#  # 翻转 数字 输出，  升级版 ***************************************\n",
    "def reverse_int_tea(num):\n",
    "    res = 0\n",
    "    ex = False\n",
    "    if num < 0:\n",
    "        num = -num\n",
    "        ex = True\n",
    "    while num > 0:\n",
    "        res = res * 10\n",
    "        res += num % 10\n",
    "        num //= 10\n",
    "    if ex:\n",
    "        res = - res\n",
    "    return res\n",
    "\n",
    "print(reverse_int_tea(-8900))\n",
    "\n",
    "\n"
   ]
  },
  {
   "cell_type": "markdown",
   "metadata": {},
   "source": [
    "# 基数 排序， 先从 低位 开始，循环的 进桶  和 出桶"
   ]
  },
  {
   "cell_type": "code",
   "execution_count": 33,
   "metadata": {},
   "outputs": [
    {
     "name": "stdout",
     "output_type": "stream",
     "text": [
      "radix_sort--> running time is: 0.49369382858276367\n"
     ]
    }
   ],
   "source": [
    "#  任意 取 数字 对应的 位数 \n",
    "def get_digit(num,i):\n",
    "    \"\"\"\n",
    "    0: 个位\n",
    "    1: 十位\n",
    "    2: 百位， 依此类推\n",
    "    \"\"\"\n",
    "#     for i in range(i-1):\n",
    "#         num = num // 10\n",
    "#     return num % 10\n",
    "    return num // (10**i) % 10\n",
    "\n",
    "# 基数 排序\n",
    "@cal_time\n",
    "def radix_sort(li):     # O(nk) k 表示位数 ，  和 最大数 的 位数 有关系 ， 只能 处理整数 \n",
    "    max_num = max(li)\n",
    "    i = 0 \n",
    "    while (10 ** i < max_num):\n",
    "        buckets = [[] for _ in range(10)]\n",
    "        for val in li:\n",
    "            digit = val // (10 ** i) % 10\n",
    "            buckets[digit].append(val)\n",
    "        li.clear()\n",
    "        for bucket in buckets:\n",
    "            for val in bucket:\n",
    "                li.append(val)\n",
    "        i += 1\n",
    "\n",
    "li = list(range(100000))\n",
    "random.shuffle(li)\n",
    "radix_sort(li)\n",
    "    \n",
    "\n"
   ]
  },
  {
   "cell_type": "code",
   "execution_count": null,
   "metadata": {},
   "outputs": [],
   "source": [
    "# 前面的  6  种排序 加上 希尔排序 都是 比较排序，最快的 时间复杂度 理论上已经证明为 O(nlogn)\n",
    "\n",
    "\n",
    "# 计数 排序 、 桶 排序、 基数 排序 ， 都是有一个 标准 和 局限性，"
   ]
  },
  {
   "cell_type": "code",
   "execution_count": null,
   "metadata": {},
   "outputs": [],
   "source": []
  },
  {
   "cell_type": "code",
   "execution_count": null,
   "metadata": {},
   "outputs": [],
   "source": []
  },
  {
   "cell_type": "code",
   "execution_count": null,
   "metadata": {},
   "outputs": [],
   "source": []
  },
  {
   "cell_type": "code",
   "execution_count": null,
   "metadata": {},
   "outputs": [],
   "source": []
  },
  {
   "cell_type": "code",
   "execution_count": null,
   "metadata": {},
   "outputs": [],
   "source": []
  },
  {
   "cell_type": "code",
   "execution_count": null,
   "metadata": {},
   "outputs": [],
   "source": []
  },
  {
   "cell_type": "code",
   "execution_count": null,
   "metadata": {},
   "outputs": [],
   "source": []
  }
 ],
 "metadata": {
  "kernelspec": {
   "display_name": "Python 3",
   "language": "python",
   "name": "python3"
  },
  "language_info": {
   "codemirror_mode": {
    "name": "ipython",
    "version": 3
   },
   "file_extension": ".py",
   "mimetype": "text/x-python",
   "name": "python",
   "nbconvert_exporter": "python",
   "pygments_lexer": "ipython3",
   "version": "3.7.1rc1"
  }
 },
 "nbformat": 4,
 "nbformat_minor": 2
}
