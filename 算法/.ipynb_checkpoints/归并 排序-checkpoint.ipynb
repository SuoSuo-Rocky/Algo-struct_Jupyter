{
 "cells": [
  {
   "cell_type": "code",
   "execution_count": 1,
   "metadata": {},
   "outputs": [],
   "source": [
    "import time\n",
    "import random\n",
    "def cal_time(func):\n",
    "    def wrapper(*args,**kwargs):\n",
    "        start = time.time()\n",
    "        result = func(*args,**kwargs)\n",
    "        end = time.time()\n",
    "        print(\"%s--> running time is: %s\"%(func.__name__,end-start))\n",
    "        return result\n",
    "    return wrapper"
   ]
  },
  {
   "cell_type": "markdown",
   "metadata": {},
   "source": [
    "# 归并排序"
   ]
  },
  {
   "cell_type": "code",
   "execution_count": 23,
   "metadata": {},
   "outputs": [
    {
     "name": "stdout",
     "output_type": "stream",
     "text": [
      "majia--> running time is: 1.2152466773986816\n"
     ]
    }
   ],
   "source": [
    "# 别说 拼 起来 ， 直接 .sort()\n",
    "\n",
    "\n",
    "\n",
    "\n",
    "\n",
    "def merge(li,low,mid,high):\n",
    "    # mid  为 分割线 左边 元素的 下标 \n",
    "    # 列表 两段有序 [low,mid] ,[mid+1,high]\n",
    "    i= low\n",
    "    j = mid + 1\n",
    "    li_tmp = []  # 升序\n",
    "    while i <= mid and j <= high:\n",
    "        if li[i] < li[j]:\n",
    "            li_tmp.append(li[i])\n",
    "            i += 1\n",
    "        else:\n",
    "            li_tmp.append(li[j])\n",
    "            j += 1\n",
    "    while i <= mid:\n",
    "        li_tmp.append(li[i])\n",
    "        i +=1\n",
    "    while j <= high:\n",
    "        li_tmp.append(li[j])\n",
    "        j += 1\n",
    "    # 把 排序后的列表 写入到 原先列表的  [low,high] 的区间中 去\n",
    "#     for i in range(low,high+1):\n",
    "#         li[i] = li_tmp[i-low]\n",
    "    li[low:high+1] = li_tmp\n",
    "\n",
    "\n",
    "# li = [2,5,7,8,9,1,3,4,6]\n",
    "# merge(li,0,4,8)\n",
    "# print(li)\n",
    "\n",
    "\n",
    "def merge_sort(li,low,high):\n",
    "    if low < high:\n",
    "        mid = (low + high) // 2\n",
    "        merge_sort(li,low,mid)\n",
    "        merge_sort(li,mid+1,high)\n",
    "        merge(li,low,mid,high)\n",
    "  \n",
    "#  套个 马甲\n",
    "@cal_time\n",
    "def majia(li,low,high):\n",
    "    merge_sort(li,low,high)\n",
    "    \n",
    "\n",
    "li = list(range(100000))\n",
    "random.shuffle(li)\n",
    "majia(li,0,len(li)-1)\n",
    "\n",
    "    \n",
    "    "
   ]
  },
  {
   "cell_type": "code",
   "execution_count": 10,
   "metadata": {},
   "outputs": [
    {
     "name": "stdout",
     "output_type": "stream",
     "text": [
      "merge2list--> running time is: 0.0\n",
      "[2, 3, 6, 6, 7, 8, 9, 15, 59, 67, 99]\n"
     ]
    }
   ],
   "source": [
    "# 合并两个 有序 列表,为一个 有序列表\n",
    "@cal_time\n",
    "def  merge2list(li1,li2):\n",
    "    i= 0\n",
    "    j = 0\n",
    "    li_tmp = []  # 升序\n",
    "    while i < len(li1) and j < len(li2):\n",
    "        if li1[i] < li2[j]:\n",
    "            li_tmp.append(li1[i])\n",
    "            i += 1\n",
    "        else:\n",
    "            li_tmp.append(li2[j])\n",
    "            j += 1\n",
    "    while i < len(li1):\n",
    "        li_tmp.append(li1[i])\n",
    "        i +=1\n",
    "    while j < len(li2):\n",
    "        li_tmp.append(li2[j])\n",
    "        j += 1\n",
    "    return li_tmp\n",
    "    \n",
    "li1 = [2,3,6,7,9,99]\n",
    "li2 = [6,8,15,59,67]\n",
    "li = merge2list(li1,li2)\n",
    "print(li)\n",
    "    \n",
    "        \n",
    "\n"
   ]
  },
  {
   "cell_type": "code",
   "execution_count": null,
   "metadata": {},
   "outputs": [],
   "source": []
  },
  {
   "cell_type": "code",
   "execution_count": null,
   "metadata": {},
   "outputs": [],
   "source": []
  },
  {
   "cell_type": "code",
   "execution_count": null,
   "metadata": {},
   "outputs": [],
   "source": []
  },
  {
   "cell_type": "code",
   "execution_count": null,
   "metadata": {},
   "outputs": [],
   "source": []
  },
  {
   "cell_type": "code",
   "execution_count": null,
   "metadata": {},
   "outputs": [],
   "source": []
  },
  {
   "cell_type": "code",
   "execution_count": null,
   "metadata": {},
   "outputs": [],
   "source": []
  },
  {
   "cell_type": "code",
   "execution_count": null,
   "metadata": {},
   "outputs": [],
   "source": []
  },
  {
   "cell_type": "code",
   "execution_count": null,
   "metadata": {},
   "outputs": [],
   "source": []
  }
 ],
 "metadata": {
  "kernelspec": {
   "display_name": "Python 3",
   "language": "python",
   "name": "python3"
  },
  "language_info": {
   "codemirror_mode": {
    "name": "ipython",
    "version": 3
   },
   "file_extension": ".py",
   "mimetype": "text/x-python",
   "name": "python",
   "nbconvert_exporter": "python",
   "pygments_lexer": "ipython3",
   "version": "3.7.1rc1"
  }
 },
 "nbformat": 4,
 "nbformat_minor": 2
}
