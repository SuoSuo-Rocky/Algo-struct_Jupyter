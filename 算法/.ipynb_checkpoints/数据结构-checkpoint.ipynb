{
 "cells": [
  {
   "cell_type": "code",
   "execution_count": null,
   "metadata": {},
   "outputs": [],
   "source": [
    "# 内存 是 一堆 格子 编号\n",
    "# 电脑 32 位 和 64 位 的 本质 区别 为 寻址能力\n",
    "# 32 位 最大 内存 为  2 ** 32/1024/1024/1024  = 4 GB\n",
    "\n",
    "# python 为 列表， 其他语言中 为 数组， 与 python 列表不同的有两点 ：\n",
    "#                                 1、定长 的， 去向  OS 要一块定长 的 内存\n",
    "#                                 2、数组中 只能 存储 一种 数据类型 \n",
    "\n",
    "# 列表 和 数组 又叫 做 顺序表 \n",
    "# 顺序表 和 链表  又叫做 线性表"
   ]
  },
  {
   "cell_type": "code",
   "execution_count": 2,
   "metadata": {},
   "outputs": [
    {
     "data": {
      "text/plain": [
       "4.0"
      ]
     },
     "execution_count": 2,
     "metadata": {},
     "output_type": "execute_result"
    }
   ],
   "source": [
    "#  ABCED  出栈 的 可能顺序 的数量 为 卡特兰数"
   ]
  },
  {
   "cell_type": "code",
   "execution_count": 6,
   "metadata": {},
   "outputs": [
    {
     "name": "stdout",
     "output_type": "stream",
     "text": [
      "剩余 左括号 未 匹配\n",
      "False\n"
     ]
    }
   ],
   "source": [
    "# 括号匹配 问题 \n",
    "# 3 中错误的情况:\n",
    "            # 1、括号 与栈顶 元素 不匹配\n",
    "            # 2、匹配完 栈 不为空\n",
    "            # 3、匹配元素时， 栈 空了\n",
    "            \n",
    "def brace_match(s):\n",
    "    stack = []\n",
    "    dic = {'(':')',\"{\":\"}\",\"[\":\"]\"}\n",
    "    for i in s:\n",
    "        if i in ['(','{','[']:\n",
    "            stack.append(i)\n",
    "        elif len(stack) == 0:\n",
    "            print('匹配 %s 时 ，栈空了'% i)\n",
    "        elif dic[stack[-1]] == i:\n",
    "            stack.pop()\n",
    "        else:\n",
    "            print('括号 %s 不匹配'% i)\n",
    "            return False\n",
    "    if len(stack) == 0:\n",
    "        return True\n",
    "    else:\n",
    "        print('剩余 左括号 未 匹配')\n",
    "        return False\n",
    "shi = \"{[()]}(({})\"\n",
    "print(brace_match(shi))\n",
    "            \n",
    "     \n"
   ]
  },
  {
   "cell_type": "code",
   "execution_count": null,
   "metadata": {},
   "outputs": [],
   "source": []
  },
  {
   "cell_type": "code",
   "execution_count": null,
   "metadata": {},
   "outputs": [],
   "source": []
  },
  {
   "cell_type": "code",
   "execution_count": null,
   "metadata": {},
   "outputs": [],
   "source": []
  },
  {
   "cell_type": "code",
   "execution_count": null,
   "metadata": {},
   "outputs": [],
   "source": []
  },
  {
   "cell_type": "code",
   "execution_count": null,
   "metadata": {},
   "outputs": [],
   "source": []
  },
  {
   "cell_type": "code",
   "execution_count": null,
   "metadata": {},
   "outputs": [],
   "source": []
  },
  {
   "cell_type": "code",
   "execution_count": null,
   "metadata": {},
   "outputs": [],
   "source": []
  },
  {
   "cell_type": "code",
   "execution_count": null,
   "metadata": {},
   "outputs": [],
   "source": []
  },
  {
   "cell_type": "code",
   "execution_count": null,
   "metadata": {},
   "outputs": [],
   "source": []
  },
  {
   "cell_type": "code",
   "execution_count": null,
   "metadata": {},
   "outputs": [],
   "source": []
  },
  {
   "cell_type": "code",
   "execution_count": null,
   "metadata": {},
   "outputs": [],
   "source": []
  },
  {
   "cell_type": "code",
   "execution_count": null,
   "metadata": {},
   "outputs": [],
   "source": []
  }
 ],
 "metadata": {
  "kernelspec": {
   "display_name": "Python 3",
   "language": "python",
   "name": "python3"
  },
  "language_info": {
   "codemirror_mode": {
    "name": "ipython",
    "version": 3
   },
   "file_extension": ".py",
   "mimetype": "text/x-python",
   "name": "python",
   "nbconvert_exporter": "python",
   "pygments_lexer": "ipython3",
   "version": "3.7.1rc1"
  }
 },
 "nbformat": 4,
 "nbformat_minor": 2
}
