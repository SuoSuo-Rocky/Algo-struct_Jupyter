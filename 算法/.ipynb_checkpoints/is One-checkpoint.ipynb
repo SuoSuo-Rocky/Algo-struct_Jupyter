{
 "cells": [
  {
   "cell_type": "code",
   "execution_count": 29,
   "metadata": {},
   "outputs": [],
   "source": [
    "import time\n",
    "import random\n",
    "def cal_time(func):\n",
    "    def wrapper(*args,**kwargs):\n",
    "        start = time.time()\n",
    "        result = func(*args,**kwargs)\n",
    "        end = time.time()\n",
    "        print(\"%s--> running time is: %s\"%(func.__name__,end-start))\n",
    "        return result\n",
    "    return wrapper\n",
    "              "
   ]
  },
  {
   "cell_type": "code",
   "execution_count": 8,
   "metadata": {},
   "outputs": [
    {
     "name": "stdout",
     "output_type": "stream",
     "text": [
      "speed_sort--> running time is: 0.12765741348266602\n"
     ]
    }
   ],
   "source": [
    "# 插入排序  （自创的 ）\n",
    "\n",
    "\n",
    "@cal_time\n",
    "def speed_sort(li):   #  O(n^2)\n",
    "    for s in range(1,len(li)):\n",
    "        tmp = li[s]\n",
    "        for n in range(s-1,-2,-1):\n",
    "            if li[n] < tmp:\n",
    "                break\n",
    "            li[n+1] = li[n]\n",
    "        li[n+1] = tmp\n",
    "li= list(range(1000))\n",
    "random.shuffle(li)\n",
    "speed_sort(li)\n",
    "\n",
    "         \n",
    "            \n"
   ]
  },
  {
   "cell_type": "code",
   "execution_count": 10,
   "metadata": {},
   "outputs": [
    {
     "name": "stdout",
     "output_type": "stream",
     "text": [
      "tea_speed_sort--> running time is: 0.13762998580932617\n"
     ]
    }
   ],
   "source": [
    "#  插入排序 \n",
    "## Teacher \n",
    "@cal_time\n",
    "def tea_speed_sort(li):\n",
    "    for i in range(1,len(li)):\n",
    "        tmp = li[i]\n",
    "        j = i - 1\n",
    "        while j >= 0 and li[j] > tmp:\n",
    "            li[j+1] = li[j]\n",
    "            j -= 1\n",
    "        li[j+1] = tmp\n",
    "li= list(range(1000))\n",
    "random.shuffle(li)\n",
    "tea_speed_sort(li)\n",
    "                \n"
   ]
  },
  {
   "cell_type": "code",
   "execution_count": 4,
   "metadata": {},
   "outputs": [
    {
     "name": "stdout",
     "output_type": "stream",
     "text": [
      "2\n"
     ]
    }
   ],
   "source": [
    "#  & 与  | 或  ~ 非  << 左移变大    >> 右移变小   #  为  5 个 位 运算 \n",
    "# and \n",
    "\n",
    "# ^  : 尖角号 ， 代表 异或， 相同为 1 ， 不同为 0 \n",
    "#  00,11 为 0;   01,10 为 1\n",
    "\n",
    "# 代表题 :  找出 列表中  唯一的 一个 出现 奇数次 的 \n",
    "li = [3,4,2,5,2,2,3,5,2,2,4]\n",
    "a = 0\n",
    "for s in li:\n",
    "    a = a ^ s\n",
    "print(a)"
   ]
  },
  {
   "cell_type": "markdown",
   "metadata": {},
   "source": [
    "# 快速排序  "
   ]
  },
  {
   "cell_type": "code",
   "execution_count": 60,
   "metadata": {},
   "outputs": [
    {
     "name": "stdout",
     "output_type": "stream",
     "text": [
      "shiwei--> running time is: 0.1216726303100586\n"
     ]
    }
   ],
   "source": [
    "\n",
    "def quick_sort(li,left,right):  #  O(nlogn)\n",
    "    if left < right:\n",
    "        mid = partition(li,left,right)\n",
    "        quick_sort(li,left,mid-1)\n",
    "        quick_sort(li,mid+1,right)\n",
    "\n",
    "def random_quick_sort(li,left,right):  # \n",
    "    ran = random.randint(0,right)\n",
    "    li[ran],li[left] = li[left],li[ran]\n",
    "    quick_sort(li,left,right)\n",
    "        \n",
    "def partition(li,left,right):  #  O(n)\n",
    "    tmp = li[left]\n",
    "    while left < right:\n",
    "        while left < right and li[right] >= tmp:\n",
    "            right -= 1\n",
    "        li[left] = li[right]\n",
    "        while left < right and li[left] <= tmp:\n",
    "            left += 1\n",
    "        li[right] = li[left]\n",
    "    li[left] =  tmp\n",
    "    return left\n",
    "\n",
    "# 套个 马甲 \n",
    "@cal_time\n",
    "def shiwei(li,left,right):\n",
    "    random_quick_sort(li,left,right)\n",
    "   \n",
    "\n",
    "    \n",
    "# import sys\n",
    "# sys.setrecursionlimit(10000) # 设置 最大 递归 深度\n",
    "# li = list(range(100000,0,-1))  # 涉及 最大递归深度\n",
    "\n",
    "li = list(range(10000))\n",
    "random.shuffle(li)\n",
    "shiwei(li,0,len(li)-1)\n",
    "\n",
    "        \n",
    "            \n",
    "    \n",
    "    "
   ]
  },
  {
   "cell_type": "code",
   "execution_count": 61,
   "metadata": {},
   "outputs": [
    {
     "name": "stdout",
     "output_type": "stream",
     "text": [
      "quick_sort_version2--> running time is: 0.0\n",
      "[44, 47, 79, 70, 89, 12, 49, 6, 2, 19, 54, 87, 78, 3, 45, 63, 82, 51, 60, 1, 39, 91, 58, 95, 9, 8, 68, 99, 33, 22, 83, 40, 29, 76, 42, 55, 31, 86, 81, 64, 25, 11, 36, 5, 80, 38, 57, 28, 73, 10, 48, 35, 98, 53, 96, 75, 72, 23, 56, 59, 97, 15, 43, 52, 18, 17, 30, 50, 84, 77, 34, 62, 26, 67, 16, 66, 46, 85, 61, 24, 13, 27, 41, 21, 71, 93, 7, 88, 92, 69, 32, 4, 0, 90, 65, 74, 37, 20, 14, 94]\n"
     ]
    }
   ],
   "source": [
    "#  快速 排序 的  版本 二  \n",
    "\n",
    "def _quick_sort_version2(li):   # 有误\n",
    "    if len(li) < 2:\n",
    "        return li\n",
    "    tmp = li[0]\n",
    "    left = [v for v in li[1:] if v <= tmp ]\n",
    "    right = [v for v in li[1:] if v >= tmp]\n",
    "    left = _quick_sort_version2(left)\n",
    "    right = _quick_sort_version2(right)\n",
    "    return left + [tmp] + right\n",
    "@cal_time\n",
    "def quick_sort_version2(li):\n",
    "    _quick_sort_version2(li)\n",
    "             \n",
    "li = list(range(100))\n",
    "random.shuffle(li)\n",
    "quick_sort_version2(li)\n",
    "print(li)"
   ]
  },
  {
   "cell_type": "code",
   "execution_count": null,
   "metadata": {},
   "outputs": [],
   "source": []
  },
  {
   "cell_type": "code",
   "execution_count": null,
   "metadata": {},
   "outputs": [],
   "source": []
  },
  {
   "cell_type": "code",
   "execution_count": null,
   "metadata": {},
   "outputs": [],
   "source": []
  },
  {
   "cell_type": "code",
   "execution_count": null,
   "metadata": {},
   "outputs": [],
   "source": []
  },
  {
   "cell_type": "code",
   "execution_count": null,
   "metadata": {},
   "outputs": [],
   "source": []
  },
  {
   "cell_type": "code",
   "execution_count": null,
   "metadata": {},
   "outputs": [],
   "source": []
  },
  {
   "cell_type": "code",
   "execution_count": null,
   "metadata": {},
   "outputs": [],
   "source": []
  },
  {
   "cell_type": "code",
   "execution_count": null,
   "metadata": {},
   "outputs": [],
   "source": []
  },
  {
   "cell_type": "code",
   "execution_count": null,
   "metadata": {},
   "outputs": [],
   "source": []
  }
 ],
 "metadata": {
  "kernelspec": {
   "display_name": "Python 3",
   "language": "python",
   "name": "python3"
  },
  "language_info": {
   "codemirror_mode": {
    "name": "ipython",
    "version": 3
   },
   "file_extension": ".py",
   "mimetype": "text/x-python",
   "name": "python",
   "nbconvert_exporter": "python",
   "pygments_lexer": "ipython3",
   "version": "3.7.1rc1"
  }
 },
 "nbformat": 4,
 "nbformat_minor": 2
}
