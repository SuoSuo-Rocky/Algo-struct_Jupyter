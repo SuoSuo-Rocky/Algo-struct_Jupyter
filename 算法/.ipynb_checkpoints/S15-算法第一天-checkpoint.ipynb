{
 "cells": [
  {
   "cell_type": "code",
   "execution_count": 40,
   "metadata": {},
   "outputs": [
    {
     "name": "stdout",
     "output_type": "stream",
     "text": [
      "[23, 100, 76, 96, -1, -45, 1]\n"
     ]
    }
   ],
   "source": [
    "# 冒泡排序\n",
    "def so(shiwei):\n",
    "    for j in range(len(shiwei)-1,0,-1):\n",
    "#         for i in range(len(shiwei)-1,len(shiwei)-j-1,-1):\n",
    "#             if shiwei[i] < shiwei[i-1]:\n",
    "#                 shiwei[i],shiwei[i-1] = shiwei[i-1],shiwei[i]\n",
    "        for i in range(j):\n",
    "            if shiwei[i]>shiwei[i+1]:\n",
    "                shiwei[i],shiwei[i+1] = shiwei[i+1],shiwei[i]\n",
    "    return shiwei\n",
    "            \n",
    "if __name__ == '__main__':\n",
    "    shiwei = [1,-45,-1,96,76,100,23]\n",
    "    print(shiwei[::-1])"
   ]
  },
  {
   "cell_type": "code",
   "execution_count": 68,
   "metadata": {},
   "outputs": [],
   "source": [
    "import time\n",
    "#  时间 的 装饰器\n",
    "def cal_time(func):\n",
    "    def wraped(*args,**kwargs):\n",
    "        start = time.time()\n",
    "        result = func(*args,**kwargs)\n",
    "        end = time.time()\n",
    "        print('%s-->运行 %s Secs'%(func.__name__,end-start))\n",
    "        return result\n",
    "    return wraped"
   ]
  },
  {
   "cell_type": "code",
   "execution_count": 42,
   "metadata": {
    "collapsed": true
   },
   "outputs": [
    {
     "name": "stdout",
     "output_type": "stream",
     "text": [
      "feibo-->运行 0.0 Secs\n"
     ]
    },
    {
     "data": {
      "text/plain": [
       "17711"
      ]
     },
     "execution_count": 42,
     "metadata": {},
     "output_type": "execute_result"
    }
   ],
   "source": [
    "@cal_time\n",
    "def feibo(n):\n",
    "    a,b = 1,1\n",
    "    for s in range(2,n+1):\n",
    "        c = a + b\n",
    "        a = b\n",
    "        b = c\n",
    "    return c\n",
    "    \n",
    "feibo(21)"
   ]
  },
  {
   "cell_type": "code",
   "execution_count": 43,
   "metadata": {
    "collapsed": true
   },
   "outputs": [
    {
     "name": "stdout",
     "output_type": "stream",
     "text": [
      "A--->B\n",
      "A--->C\n",
      "B--->C\n",
      "A--->B\n",
      "C--->A\n",
      "C--->B\n",
      "A--->B\n",
      "A--->C\n",
      "B--->C\n",
      "B--->A\n",
      "C--->A\n",
      "B--->C\n",
      "A--->B\n",
      "A--->C\n",
      "B--->C\n"
     ]
    }
   ],
   "source": [
    "# 汉诺塔 问题\n",
    "def hanoi(n,A,B,C):\n",
    "    if n>0:\n",
    "        hanoi(n-1,A,C,B)\n",
    "        print('%s--->%s'%(A,C))\n",
    "        hanoi(n-1,B,A,C)\n",
    "hanoi(4,'A','B','C')\n",
    "        \n"
   ]
  },
  {
   "cell_type": "code",
   "execution_count": 31,
   "metadata": {},
   "outputs": [
    {
     "name": "stdout",
     "output_type": "stream",
     "text": [
      "7\n"
     ]
    }
   ],
   "source": [
    "# 二分法查找   （候选区 ）\n",
    "def bin_search(collect,value):  # O(logn)\n",
    "    low = 0\n",
    "    high = len(collect)-1\n",
    "    while high >= low:\n",
    "        mid = (low + high) // 2\n",
    "        if collect[mid] == value:\n",
    "            return mid\n",
    "        if value > collect[mid]:\n",
    "            low = mid + 1\n",
    "        else:\n",
    "            high = mid -1\n",
    "    return -1\n",
    "\n",
    "li = list(range(1,4500545,3))\n",
    "print(bin_search(li,22))\n"
   ]
  },
  {
   "cell_type": "code",
   "execution_count": 60,
   "metadata": {},
   "outputs": [
    {
     "name": "stdout",
     "output_type": "stream",
     "text": [
      "7\n"
     ]
    }
   ],
   "source": [
    "# 递归  式的 二分查找\n",
    "# 但： 尾递归 ，会变为循环，一样的 效率 ，对 python 而言 没有优化 ，还是慢 \n",
    "def bin_recursive(li,val,low,high):  \n",
    "    if low <= high:\n",
    "        mid = (low + high) // 2\n",
    "        if val == li[mid]:\n",
    "            return mid\n",
    "        elif val < li[mid]:\n",
    "            return bin_recursive(li,val,low,mid-1)\n",
    "        else:\n",
    "            return bin_recursive(li,val,mid+1,high)\n",
    "    else:\n",
    "        return -1\n",
    "li = list(range(1,4500545,3))\n",
    "print(bin_recursive(li,22,0,1000))"
   ]
  },
  {
   "cell_type": "markdown",
   "metadata": {},
   "source": [
    "# 排序"
   ]
  },
  {
   "cell_type": "code",
   "execution_count": null,
   "metadata": {},
   "outputs": [],
   "source": [
    "# 稳定性: 关键字相同的 ，排序之后， 相对位置 不变\n",
    "# python 中 提供的  排序内置方法 是稳定的。 sorted()\n",
    "#  有序区  和  无序区 "
   ]
  },
  {
   "cell_type": "code",
   "execution_count": 77,
   "metadata": {},
   "outputs": [
    {
     "name": "stdout",
     "output_type": "stream",
     "text": [
      "bubble_sort-->运行 0.22685742378234863 Secs\n"
     ]
    }
   ],
   "source": [
    "# 冒泡 排序: \n",
    "# 稳定， 挨着 换的\n",
    "import random\n",
    "\n",
    "@cal_time\n",
    "def bubble_sort(li):\n",
    "    for i in range(len(li)-1):\n",
    "        for j in range(len(li)-i-1):\n",
    "            if li[j] > li[j+1]:\n",
    "                li[j], li[j+1] = li[j+1], li[j]\n",
    "li = list(range(1000))\n",
    "random.shuffle(li)  # 打乱\n",
    "bubble_sort(li)\n",
    "     "
   ]
  },
  {
   "cell_type": "code",
   "execution_count": null,
   "metadata": {},
   "outputs": [],
   "source": [
    "# 冒泡 排序优化: \n",
    "def optimize_bubble_sort(li):\n",
    "    for i in range(len(li)-1):\n",
    "        exchange = False\n",
    "        for j in range(len(li)-i-1):\n",
    "            if li[j],li[j+1] = li[j+1],li[j]\n",
    "            exchange = True\n",
    "        if not exchange:\n",
    "            break\n",
    "#  最好： O(n)  中等 和 最坏 为 O(n^2)\n"
   ]
  },
  {
   "cell_type": "code",
   "execution_count": null,
   "metadata": {},
   "outputs": [],
   "source": [
    "#  选择排序: 学算法的 时候尽量 不要用 内置函数  \n",
    "# 不稳定 ， 飞着 换的\n",
    "def min_one(li):  # 求最小值 \n",
    "    min = 0\n",
    "    for i in range(1,len(li)):\n",
    "        if min > li[i]:\n",
    "            min = li[i]\n",
    "    return min \n",
    "def min_two(li):\n",
    "    min_pos = 0\n",
    "    for i in range(1,len(li)):\n",
    "        if li[min_pos] > li[i]:\n",
    "            min_pos = i\n",
    "    return min_pos\n",
    "@cal_time\n",
    "def select_sort(li):\n",
    "    for i in range(len(li)):\n",
    "        min_pos = i\n",
    "        for j in range(i+1,len(li)):\n",
    "            if li[min_pos] > li[j]:\n",
    "                min_pos = j\n",
    "        li[min_pos],li[i] = li[i],li[min_pos]\n",
    "        \n",
    "                \n",
    "            \n",
    "li = list(range(100000))\n",
    "random.shuffle(li)  # 打乱\n",
    "select_sort(li)\n",
    "print(li)"
   ]
  },
  {
   "cell_type": "code",
   "execution_count": null,
   "metadata": {},
   "outputs": [],
   "source": []
  },
  {
   "cell_type": "code",
   "execution_count": null,
   "metadata": {},
   "outputs": [],
   "source": []
  },
  {
   "cell_type": "code",
   "execution_count": null,
   "metadata": {},
   "outputs": [],
   "source": []
  },
  {
   "cell_type": "code",
   "execution_count": null,
   "metadata": {},
   "outputs": [],
   "source": []
  },
  {
   "cell_type": "code",
   "execution_count": null,
   "metadata": {},
   "outputs": [],
   "source": []
  },
  {
   "cell_type": "code",
   "execution_count": null,
   "metadata": {},
   "outputs": [],
   "source": []
  },
  {
   "cell_type": "code",
   "execution_count": null,
   "metadata": {},
   "outputs": [],
   "source": []
  },
  {
   "cell_type": "code",
   "execution_count": null,
   "metadata": {},
   "outputs": [],
   "source": []
  },
  {
   "cell_type": "code",
   "execution_count": null,
   "metadata": {},
   "outputs": [],
   "source": []
  },
  {
   "cell_type": "code",
   "execution_count": null,
   "metadata": {},
   "outputs": [],
   "source": []
  },
  {
   "cell_type": "code",
   "execution_count": null,
   "metadata": {},
   "outputs": [],
   "source": []
  },
  {
   "cell_type": "code",
   "execution_count": null,
   "metadata": {},
   "outputs": [],
   "source": []
  },
  {
   "cell_type": "code",
   "execution_count": null,
   "metadata": {},
   "outputs": [],
   "source": []
  }
 ],
 "metadata": {
  "kernelspec": {
   "display_name": "Python 3",
   "language": "python",
   "name": "python3"
  },
  "language_info": {
   "codemirror_mode": {
    "name": "ipython",
    "version": 3
   },
   "file_extension": ".py",
   "mimetype": "text/x-python",
   "name": "python",
   "nbconvert_exporter": "python",
   "pygments_lexer": "ipython3",
   "version": "3.7.1rc1"
  }
 },
 "nbformat": 4,
 "nbformat_minor": 2
}
