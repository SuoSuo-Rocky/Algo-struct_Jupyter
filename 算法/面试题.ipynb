{
 "cells": [
  {
   "cell_type": "code",
   "execution_count": null,
   "metadata": {},
   "outputs": [],
   "source": [
    "# 1、用 链表 写一个 冒泡排序\n",
    "# 2、如何解决 哈希冲突 ，\n",
    "#          1、开放寻址法，如果 哈希函数 返回的 位置已经有值， 则可以 向后探查新的 位置 来存储这个值\n",
    "#                 线性探查 i+1,i+2,i+3,....\n",
    "#                 二次探查 i+1**2,i-1**2,i+2**2,i-2**2,...\n",
    "#                 二度哈希，有那个 哈希函数， 一个发生 哈希冲突了， 则 尝试使用下一个 哈希函数\n",
    "#             2、拉链法: 也叫做 哈希分桶\n",
    "#                     哈希表的每个位置都连接一个链表，当冲突发生时， 将冲突的元素加到该位置链表的最后\n",
    "# 哈希 表的 应用 在 pytyon  中就是 字典 和 集合\n",
    "# 3、如何 判断 链表中是否有 链表环 ，快慢指针法 ，一个走两步，一个走一步， 若有环 一定会重合\n",
    "# 4、建一个 新单向链表 ，反向链接\n",
    "# 5、哈希表的原理，字典  一个直接寻址表 +  哈希函数(取余 或 乘法 )\n",
    "\n"
   ]
  }
 ],
 "metadata": {
  "kernelspec": {
   "display_name": "Python 3",
   "language": "python",
   "name": "python3"
  },
  "language_info": {
   "codemirror_mode": {
    "name": "ipython",
    "version": 3
   },
   "file_extension": ".py",
   "mimetype": "text/x-python",
   "name": "python",
   "nbconvert_exporter": "python",
   "pygments_lexer": "ipython3",
   "version": "3.7.1rc1"
  }
 },
 "nbformat": 4,
 "nbformat_minor": 2
}
