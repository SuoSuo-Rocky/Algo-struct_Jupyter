{
 "cells": [
  {
   "cell_type": "code",
   "execution_count": 1,
   "metadata": {},
   "outputs": [],
   "source": [
    "import time"
   ]
  },
  {
   "cell_type": "code",
   "execution_count": 2,
   "metadata": {},
   "outputs": [
    {
     "name": "stdout",
     "output_type": "stream",
     "text": [
      "majia running time: 1.3749511241912842 secs\n",
      "3524578\n"
     ]
    }
   ],
   "source": [
    "# 斐波那契数列\n",
    "# F(n) = F(n-1) + F(n-2)  F(0)=1, F(1)=1\n",
    "# 事件的 装饰器\n",
    "def cal_time(func):  # 递归 存在效率问题  O(2^n)\n",
    "    def wrapper(*args,**kwargs):\n",
    "        t1 = time.time()\n",
    "        result = func(*args,**kwargs)\n",
    "        t2 = time.time()\n",
    "        print('%s running time: %s secs'%(func.__name__,t2-t1))\n",
    "        return result\n",
    "    return wrapper\n",
    "\n",
    "def feibonaqi(n):  #  \n",
    "    if n == 0 or n == 1:\n",
    "        return 1\n",
    "    return feibonaqi(n-1) + feibonaqi(n-2)\n",
    "\n",
    "# 给 递归函数套一层 马甲\n",
    "@cal_time\n",
    "def majia(n):\n",
    "    return feibonaqi(n)\n",
    "\n",
    "print(majia(32))"
   ]
  },
  {
   "cell_type": "code",
   "execution_count": 4,
   "metadata": {},
   "outputs": [
    {
     "name": "stdout",
     "output_type": "stream",
     "text": [
      "feibo01 running time: 0.0 secs\n",
      "573147844013817084101\n"
     ]
    }
   ],
   "source": [
    "\n",
    "# 避免重复计算\n",
    "@cal_time\n",
    "def feibo01(n):   # S(n) = O(n) = T(n)  \n",
    "    li = [1,1]\n",
    "    for s in range(2,n+1):\n",
    "        li.append(li[-1] + li[-2])\n",
    "    return li[n]\n",
    "print(feibo01(100))\n"
   ]
  },
  {
   "cell_type": "code",
   "execution_count": null,
   "metadata": {},
   "outputs": [],
   "source": [
    "# 节省空间\n",
    "@cal\n",
    "def feibo02(n):\n",
    "    a = 1\n",
    "    b = 1\n",
    "    for s in range(2,n+1):\n",
    "        c =- a + b\n",
    "        a = b\n",
    "        b = c\n",
    "    return c\n"
   ]
  }
 ],
 "metadata": {
  "kernelspec": {
   "display_name": "Python 3",
   "language": "python",
   "name": "python3"
  },
  "language_info": {
   "codemirror_mode": {
    "name": "ipython",
    "version": 3
   },
   "file_extension": ".py",
   "mimetype": "text/x-python",
   "name": "python",
   "nbconvert_exporter": "python",
   "pygments_lexer": "ipython3",
   "version": "3.7.1rc1"
  }
 },
 "nbformat": 4,
 "nbformat_minor": 2
}
