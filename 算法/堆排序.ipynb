{
 "cells": [
  {
   "cell_type": "code",
   "execution_count": 1,
   "metadata": {},
   "outputs": [],
   "source": [
    "import time\n",
    "import random\n",
    "def cal_time(func):\n",
    "    def wrapper(*args,**kwargs):\n",
    "        start = time.time()\n",
    "        result = func(*args,**kwargs)\n",
    "        end = time.time()\n",
    "        print(\"%s--> running time is: %s\"%(func.__name__,end-start))\n",
    "        return result\n",
    "    return wrapper"
   ]
  },
  {
   "cell_type": "markdown",
   "metadata": {},
   "source": [
    "- 树的度 :  最大 的 节点的 度\n",
    "\n",
    "- 二叉树 : 度不超过二 的 树\n",
    "    - 满二叉树: 每一层的节点 都达到 最大值 \n",
    "    - 完全二叉树 \n",
    "- 已知父孩子下标: i\n",
    "    - 左孩子下标: 2i+1\n",
    "    - 右孩子下标: 2i+2\n",
    "- 已知孩子节点: i\n",
    "    - 则父节点下标: (i-1) // 2  \n",
    "   \n",
    "- 大根堆 : 升序\n",
    "- 小根堆 : 降序\n",
    "- 堆 : 优先 队列 heapq\n",
    "- 内排序:  在内存上的排序\n",
    "- 外排序:  在硬盘上的排序\n",
    "    "
   ]
  },
  {
   "cell_type": "code",
   "execution_count": 55,
   "metadata": {},
   "outputs": [
    {
     "name": "stdout",
     "output_type": "stream",
     "text": [
      "heap_sort--> running time is: 1.668961763381958\n"
     ]
    }
   ],
   "source": [
    "# 向下调整， 放置 根节点 元素 到 一个合适的 位置，大于自己的孩子，或者是 叶子节点 \n",
    "def sift(li,low,high):  # O(logn)\n",
    "    i = low                    # 要调整的 树 的树根的下标 , 也就是 空位，\n",
    "    tmp = li[low]              # 保存 处于空位中的值\n",
    "    j = 2 * i + 1              # 初始 指向 空位 的 左孩子\n",
    "        # 循环退出，调整结束的第二种情况: j>high,说明空位 i 是叶子节点\n",
    "    while j <= high:\n",
    "        if j + 1 <= high and li[j] < li[j+1]:    # 判断 右孩子 是否 大于 左孩子\n",
    "            j += 1\n",
    "        if li[j] > tmp:        # 判断(左/右)孩子  是否大于 原先处于空位中的值 tmp\n",
    "            li[i] = li[j]\n",
    "            i = j\n",
    "            j = 2 * i + 1\n",
    "        #  循环退出，调整结束的第一种情况: 原处于 空位中的值 tmp 大于 孩子的值\n",
    "        else:                 \n",
    "            break\n",
    "    li[i] = tmp\n",
    "      \n",
    "@cal_time        \n",
    "def heap_sort(li):  #  O(n)* O(logn) = O(nlogn)\n",
    "    n = len(li)-1\n",
    "    # 1、 构造 堆 : 一棵完全二叉树，满足任一节点都比其孩子节点大,\n",
    "    for low in range((n-1)//2,-1,-1):   # 循环 每一个 小堆的 根节点  的 下标\n",
    "        sift(li,low,n)\n",
    "    # 2、 挨个出数\n",
    "    for high in range(n,-1,-1):\n",
    "        li[0],li[high] = li[high],li[0]\n",
    "        sift(li,0,high-1)\n",
    "\n",
    "li = list(range(100000))\n",
    "random.shuffle(li)\n",
    "heap_sort(li)\n",
    "        \n",
    "    \n",
    "    \n",
    "    "
   ]
  },
  {
   "cell_type": "code",
   "execution_count": 54,
   "metadata": {},
   "outputs": [
    {
     "name": "stdout",
     "output_type": "stream",
     "text": [
      "[65, 56, 35, 16, 6]\n",
      "[-9, -8, 2, 4, 5]\n"
     ]
    }
   ],
   "source": [
    "# python 自带的 堆  库\n",
    "import heapq     #  也叫做 优先队列,每个元素 都有一个权重，\n",
    "# \n",
    "li = [2,6,65,5,-9,-8,4,35,16,56]\n",
    "# 生成小根堆，也就是 最小 优先队列 \n",
    "heapq.heapify(li) \n",
    "\n",
    "# 有向下调整 ， 也有 向上调整\n",
    "\n",
    "# 向队列中 插入一个元素 \n",
    "heapq.heappush(li,-45)\n",
    "\n",
    "# 从此 堆 中 弹出一个 元素，为 根元素(最大 或 最小)，之后的 会自动调整\n",
    "item = heapq.heappop(li)\n",
    "# print(item)\n",
    "\n",
    "# 求前 几个 大 的元素\n",
    "max_topk = heapq.nlargest(5,li)\n",
    "print(max_topk)\n",
    "\n",
    "# 求 前几个 最小的 数\n",
    "min_topk = heapq.nsmallest(5,li)\n",
    "print(min_topk)\n",
    "\n",
    "\n",
    "\n"
   ]
  },
  {
   "cell_type": "code",
   "execution_count": null,
   "metadata": {},
   "outputs": [],
   "source": []
  },
  {
   "cell_type": "code",
   "execution_count": null,
   "metadata": {},
   "outputs": [],
   "source": []
  },
  {
   "cell_type": "code",
   "execution_count": null,
   "metadata": {},
   "outputs": [],
   "source": []
  },
  {
   "cell_type": "code",
   "execution_count": null,
   "metadata": {},
   "outputs": [],
   "source": []
  },
  {
   "cell_type": "code",
   "execution_count": null,
   "metadata": {},
   "outputs": [],
   "source": []
  },
  {
   "cell_type": "code",
   "execution_count": null,
   "metadata": {},
   "outputs": [],
   "source": []
  },
  {
   "cell_type": "code",
   "execution_count": null,
   "metadata": {},
   "outputs": [],
   "source": []
  },
  {
   "cell_type": "code",
   "execution_count": null,
   "metadata": {},
   "outputs": [],
   "source": []
  },
  {
   "cell_type": "code",
   "execution_count": null,
   "metadata": {},
   "outputs": [],
   "source": []
  }
 ],
 "metadata": {
  "kernelspec": {
   "display_name": "Python 3",
   "language": "python",
   "name": "python3"
  },
  "language_info": {
   "codemirror_mode": {
    "name": "ipython",
    "version": 3
   },
   "file_extension": ".py",
   "mimetype": "text/x-python",
   "name": "python",
   "nbconvert_exporter": "python",
   "pygments_lexer": "ipython3",
   "version": "3.7.1rc1"
  }
 },
 "nbformat": 4,
 "nbformat_minor": 2
}
