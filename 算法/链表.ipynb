{
 "cells": [
  {
   "cell_type": "markdown",
   "metadata": {},
   "source": [
    "# 单链表"
   ]
  },
  {
   "cell_type": "code",
   "execution_count": null,
   "metadata": {},
   "outputs": [],
   "source": [
    "class Node:\n",
    "    def __init__(self,data=None):\n",
    "        self.data = data\n",
    "        self.next = None\n",
    "\n",
    "# head ---> a ----> b----> c -----> d\n",
    "\n",
    "head = Node()  #  data 可以 来存储 链表的长度\n",
    "\n",
    "a = Node(1)\n",
    "b = Node(2)\n",
    "c = Node(3)\n",
    "d = Node(4)\n",
    "\n",
    "head.next = a  # 头结点 ， 空链表 表示为 haad 节点 的 next 无 指向\n",
    "a.next = b\n",
    "b.next = c \n",
    "c.next = d\n",
    "\n",
    "# while  遍历 链表\n",
    "# while 1:\n",
    "#     node = a.next\n",
    "#     if not node:\n",
    "#         break\n",
    "#     print(node.data)\n",
    "#     a = node\n",
    "\n",
    "# 迭代 遍历 输出 链表 每个元素\n",
    "def output(start_node):\n",
    "    if not start_node:\n",
    "        return\n",
    "    print(start_node.data)\n",
    "    output(start_node.next)\n",
    "    \n",
    "    \n",
    "class LinkList:\n",
    "    def __init__(self,li,method='head'):\n",
    "        self.head = None\n",
    "        method ='create_linklist_'+ method.strip() \n",
    "        if hasattr(self,method):\n",
    "            func = getattr(self,method)\n",
    "            func(li)\n",
    "        else:\n",
    "            raise ValueError('method  argument is  Error......') \n",
    "            \n",
    "        \n",
    "    def create_linklist_head(self,li): # 头插法 将 一个 列表 转化 为链表\n",
    "        self.head = Node(0)\n",
    "        for v in li:\n",
    "            n = Node(v)\n",
    "            n.next = self.head.next\n",
    "            self.head.next = n\n",
    "            self.head.data += 1\n",
    "    \n",
    "    def create_linklist_tail(self,li):  # 尾 插法， 将一个列表转化 为链表\n",
    "        self.head = Node(0)\n",
    "        tail = self.head\n",
    "        for i in li:\n",
    "            v = Node(i)\n",
    "            tail.next = v\n",
    "            tail = v\n",
    "            self.head.data += 1\n",
    "    \n",
    "    def shiwei(self,start):  # 迭代 遍历链表\n",
    "        if not start :\n",
    "            return \n",
    "        print(start.data)\n",
    "        self.shiwei(start.next)\n",
    "\n",
    "    def print_linklist(self):\n",
    "        start = self.head\n",
    "        self.shiwei(start)\n",
    " \n",
    "# 链表 的  删除\n",
    "# curNode.next = curNode.next.next\n",
    "#  文件系统 和 区块链 \n",
    "# 硬盘 的基本单位 为 block = 4 K\n",
    "\n",
    "from collections import deque\n",
    "shi = deque()\n",
    "\n",
    "    \n",
    "\n",
    "\n",
    "li = range(20)\n",
    "shiwei = LinkList(li,method='head')\n",
    "shiwei.print_linklist()\n",
    "\n"
   ]
  },
  {
   "cell_type": "markdown",
   "metadata": {},
   "source": [
    "# 双链表"
   ]
  },
  {
   "cell_type": "code",
   "execution_count": null,
   "metadata": {},
   "outputs": [],
   "source": [
    "\n",
    "\n",
    "\n"
   ]
  },
  {
   "cell_type": "code",
   "execution_count": null,
   "metadata": {},
   "outputs": [],
   "source": []
  },
  {
   "cell_type": "code",
   "execution_count": null,
   "metadata": {},
   "outputs": [],
   "source": []
  },
  {
   "cell_type": "code",
   "execution_count": null,
   "metadata": {},
   "outputs": [],
   "source": []
  },
  {
   "cell_type": "code",
   "execution_count": null,
   "metadata": {},
   "outputs": [],
   "source": []
  },
  {
   "cell_type": "code",
   "execution_count": null,
   "metadata": {},
   "outputs": [],
   "source": []
  },
  {
   "cell_type": "code",
   "execution_count": null,
   "metadata": {},
   "outputs": [],
   "source": []
  },
  {
   "cell_type": "code",
   "execution_count": null,
   "metadata": {},
   "outputs": [],
   "source": []
  },
  {
   "cell_type": "code",
   "execution_count": null,
   "metadata": {},
   "outputs": [],
   "source": []
  },
  {
   "cell_type": "code",
   "execution_count": null,
   "metadata": {},
   "outputs": [],
   "source": []
  },
  {
   "cell_type": "code",
   "execution_count": null,
   "metadata": {},
   "outputs": [],
   "source": []
  }
 ],
 "metadata": {
  "kernelspec": {
   "display_name": "Python 3",
   "language": "python",
   "name": "python3"
  },
  "language_info": {
   "codemirror_mode": {
    "name": "ipython",
    "version": 3
   },
   "file_extension": ".py",
   "mimetype": "text/x-python",
   "name": "python",
   "nbconvert_exporter": "python",
   "pygments_lexer": "ipython3",
   "version": "3.7.1rc1"
  }
 },
 "nbformat": 4,
 "nbformat_minor": 2
}
