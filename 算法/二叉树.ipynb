{
 "cells": [
  {
   "cell_type": "code",
   "execution_count": null,
   "metadata": {},
   "outputs": [],
   "source": [
    "# 二叉树的遍历：\n",
    "# DFS: 深度 优先遍历: \n",
    "#         1、 前序遍历，递归 其实就是 栈\n",
    "#         2、 中序遍历\n",
    "#         3、 后序遍历\n",
    "# BFS:  广度优先遍历\n",
    "#         1、 层次遍历\n",
    "\n",
    "# by luffycity.com\n",
    "from collections import deque\n",
    "\n",
    "class BiTreeNode:\n",
    "    def __init__(self, data):\n",
    "        self.data = data\n",
    "        self.lchild = None\n",
    "        self.rchild = None\n",
    "\n",
    "\n",
    "a = BiTreeNode('A')\n",
    "b = BiTreeNode('B')\n",
    "c = BiTreeNode('C')\n",
    "d = BiTreeNode('D')\n",
    "e = BiTreeNode('E')\n",
    "f = BiTreeNode('F')\n",
    "g = BiTreeNode('G')\n",
    "\n",
    "e.lchild = a\n",
    "e.rchild = g\n",
    "a.rchild = c\n",
    "c.lchild = b\n",
    "c.rchild = d\n",
    "g.rchild = f\n",
    "\n",
    "root = e\n",
    "\n",
    "def pre_order(root):\n",
    "    if root:\n",
    "        print(root.data, end='')\n",
    "        pre_order(root.lchild)\n",
    "        pre_order(root.rchild)\n",
    "\n",
    "\n",
    "def in_order(root):\n",
    "    if root:\n",
    "        in_order(root.lchild)\n",
    "        print(root.data, end='')\n",
    "        in_order(root.rchild)\n",
    "\n",
    "\n",
    "def post_order(root):\n",
    "    if root:\n",
    "        post_order(root.lchild)\n",
    "        post_order(root.rchild)\n",
    "        print(root.data, end='')\n",
    "\n",
    "\n",
    "def level_order(root):\n",
    "    q = deque()\n",
    "    q.append(root)\n",
    "    while(len(q)>0): # 当队不空时循环\n",
    "        x = q.popleft()\n",
    "        print(x.data, end='')\n",
    "        if x.lchild:\n",
    "            q.append(x.lchild)\n",
    "        if x.rchild:\n",
    "            q.append(x.rchild)\n",
    "\n",
    "\n",
    "level_order(root)"
   ]
  },
  {
   "cell_type": "code",
   "execution_count": 7,
   "metadata": {},
   "outputs": [
    {
     "name": "stdout",
     "output_type": "stream",
     "text": [
      "BDCAFGE"
     ]
    }
   ],
   "source": [
    "\n",
    "class BiTreeNode:\n",
    "    def __init__(self,data):\n",
    "        self.data = data\n",
    "        self.lchild = None\n",
    "        self.rchild = None\n",
    "    \n",
    "a = BiTreeNode('A')\n",
    "b = BiTreeNode('B')\n",
    "c = BiTreeNode('C')\n",
    "d = BiTreeNode('D')\n",
    "e = BiTreeNode('E')\n",
    "f = BiTreeNode('F')\n",
    "g = BiTreeNode('G')\n",
    "\n",
    "e.lchild = a\n",
    "e.rchild = g\n",
    "a.rchild = c\n",
    "c.lchild = b\n",
    "c.rchild = d\n",
    "g.rchild = f\n",
    "\n",
    "root = e \n",
    "\n",
    "# 前序 遍历\n",
    "def pre_order(root):\n",
    "    if root:  \n",
    "        print(root.data,end=\"\")\n",
    "        pre_order(root.lchild)\n",
    "        pre_order(root.rchild)\n",
    "            \n",
    "\n",
    "# 中序 遍历\n",
    "def in_order(root):\n",
    "    if root:  \n",
    "        in_order(root.lchild)\n",
    "        print(root.data,end=\"\")\n",
    "        in_order(root.rchild)\n",
    "        \n",
    "# 后序 遍历\n",
    "def end_order(root):\n",
    "    if root:  \n",
    "        end_order(root.lchild)\n",
    "        end_order(root.rchild)\n",
    "        print(root.data,end=\"\")\n",
    "        \n",
    "end_order(root)\n",
    "  \n",
    "# 给 前序 遍历 和 中序 遍历 ， 让你 画出 这棵 二叉树\n",
    "# 思路: 前序 找根  ， 再 根据 中序 找 左右 子树\n",
    "\n",
    "# 若给 后续 和 中序 一样 ， 后续的 根节点 在 最后一个\n",
    "\n",
    "# 层次 遍历 ，广度 优先遍历用队列， 出队列一个，则他的 左右 孩子 进队列\n",
    "from collections import deque\n",
    "def level_order(root):\n",
    "    q = deque()\n",
    "    q.append(root)\n",
    "    while len(q) > 0:\n",
    "        x = q.popleft()\n",
    "        print(x.data,end=\"\")\n",
    "        if x.lchild:\n",
    "            q.append(x.lchild)\n",
    "        if x.rchild:\n",
    "            q.append(x.rchild)\n",
    "\n",
    "\n"
   ]
  },
  {
   "cell_type": "code",
   "execution_count": null,
   "metadata": {},
   "outputs": [],
   "source": []
  },
  {
   "cell_type": "code",
   "execution_count": null,
   "metadata": {},
   "outputs": [],
   "source": []
  },
  {
   "cell_type": "code",
   "execution_count": null,
   "metadata": {},
   "outputs": [],
   "source": []
  },
  {
   "cell_type": "code",
   "execution_count": null,
   "metadata": {},
   "outputs": [],
   "source": []
  },
  {
   "cell_type": "code",
   "execution_count": null,
   "metadata": {},
   "outputs": [],
   "source": []
  },
  {
   "cell_type": "code",
   "execution_count": null,
   "metadata": {},
   "outputs": [],
   "source": []
  },
  {
   "cell_type": "code",
   "execution_count": null,
   "metadata": {},
   "outputs": [],
   "source": []
  },
  {
   "cell_type": "code",
   "execution_count": null,
   "metadata": {},
   "outputs": [],
   "source": []
  },
  {
   "cell_type": "code",
   "execution_count": null,
   "metadata": {},
   "outputs": [],
   "source": []
  },
  {
   "cell_type": "code",
   "execution_count": null,
   "metadata": {},
   "outputs": [],
   "source": []
  },
  {
   "cell_type": "code",
   "execution_count": null,
   "metadata": {},
   "outputs": [],
   "source": []
  },
  {
   "cell_type": "code",
   "execution_count": null,
   "metadata": {},
   "outputs": [],
   "source": []
  },
  {
   "cell_type": "code",
   "execution_count": null,
   "metadata": {},
   "outputs": [],
   "source": []
  },
  {
   "cell_type": "code",
   "execution_count": null,
   "metadata": {},
   "outputs": [],
   "source": []
  },
  {
   "cell_type": "code",
   "execution_count": null,
   "metadata": {},
   "outputs": [],
   "source": []
  },
  {
   "cell_type": "code",
   "execution_count": null,
   "metadata": {},
   "outputs": [],
   "source": []
  },
  {
   "cell_type": "code",
   "execution_count": null,
   "metadata": {},
   "outputs": [],
   "source": []
  }
 ],
 "metadata": {
  "kernelspec": {
   "display_name": "Python 3",
   "language": "python",
   "name": "python3"
  },
  "language_info": {
   "codemirror_mode": {
    "name": "ipython",
    "version": 3
   },
   "file_extension": ".py",
   "mimetype": "text/x-python",
   "name": "python",
   "nbconvert_exporter": "python",
   "pygments_lexer": "ipython3",
   "version": "3.7.1rc1"
  }
 },
 "nbformat": 4,
 "nbformat_minor": 2
}
