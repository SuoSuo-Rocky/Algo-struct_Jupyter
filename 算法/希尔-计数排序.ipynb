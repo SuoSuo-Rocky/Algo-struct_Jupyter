{
 "cells": [
  {
   "cell_type": "code",
   "execution_count": 1,
   "metadata": {},
   "outputs": [],
   "source": [
    "import time\n",
    "import random\n",
    "def cal_time(func):\n",
    "    def wrapper(*args,**kwargs):\n",
    "        start = time.time()\n",
    "        result = func(*args,**kwargs)\n",
    "        end = time.time()\n",
    "        print(\"%s--> running time is: %s\"%(func.__name__,end-start))\n",
    "        return result\n",
    "    return wrapper"
   ]
  },
  {
   "cell_type": "code",
   "execution_count": 29,
   "metadata": {},
   "outputs": [
    {
     "name": "stdout",
     "output_type": "stream",
     "text": [
      "shell_sort--> running time is: 0.15090155601501465\n"
     ]
    }
   ],
   "source": [
    "def insert_sort(li,d):   #  O(n^2)\n",
    "    for s in range(d,len(li)):\n",
    "        tmp = li[s]\n",
    "        for n in range(s-d,-2,-d):\n",
    "            if li[n] < tmp:\n",
    "                break\n",
    "            li[n+d] = li[n]\n",
    "        li[n+d] = tmp\n",
    "\n",
    "        \n",
    "# 希尔排序\n",
    "@cal_time\n",
    "def shell_sort(li):\n",
    "    d = len(li) // 2\n",
    "    while d  > 0:\n",
    "        insert_sort(li,d)\n",
    "        d = d // 2\n",
    "        \n",
    "  \n",
    "li= list(range(10000))\n",
    "shell_sort(li)\n",
    "\n"
   ]
  },
  {
   "cell_type": "code",
   "execution_count": 28,
   "metadata": {},
   "outputs": [
    {
     "name": "stdout",
     "output_type": "stream",
     "text": [
      "count_sort--> running time is: 0.003996372222900391\n"
     ]
    }
   ],
   "source": [
    "# 计数排序\n",
    "\n",
    "@cal_time\n",
    "def count_sort(li,max_num=100):\n",
    "    count = [0 for _ in range(max_num+1)]\n",
    "    for val in li:\n",
    "        count[val] += 1\n",
    "    li.clear()\n",
    "    for i,v in enumerate(count):\n",
    "        for s in range(v):\n",
    "            li.append(i)\n",
    "\n",
    "li = [random.randint(0,100) for _ in range(10000)]\n",
    "random.shuffle(li)\n",
    "count_sort(li)\n",
    "            \n",
    "\n"
   ]
  },
  {
   "cell_type": "code",
   "execution_count": null,
   "metadata": {},
   "outputs": [],
   "source": [
    " \n",
    "\n",
    " "
   ]
  },
  {
   "cell_type": "code",
   "execution_count": null,
   "metadata": {},
   "outputs": [],
   "source": []
  },
  {
   "cell_type": "code",
   "execution_count": null,
   "metadata": {},
   "outputs": [],
   "source": []
  },
  {
   "cell_type": "code",
   "execution_count": null,
   "metadata": {},
   "outputs": [],
   "source": []
  },
  {
   "cell_type": "code",
   "execution_count": null,
   "metadata": {},
   "outputs": [],
   "source": []
  },
  {
   "cell_type": "code",
   "execution_count": null,
   "metadata": {},
   "outputs": [],
   "source": []
  },
  {
   "cell_type": "code",
   "execution_count": null,
   "metadata": {},
   "outputs": [],
   "source": []
  },
  {
   "cell_type": "code",
   "execution_count": null,
   "metadata": {},
   "outputs": [],
   "source": []
  },
  {
   "cell_type": "code",
   "execution_count": null,
   "metadata": {},
   "outputs": [],
   "source": []
  },
  {
   "cell_type": "code",
   "execution_count": null,
   "metadata": {},
   "outputs": [],
   "source": []
  },
  {
   "cell_type": "code",
   "execution_count": null,
   "metadata": {},
   "outputs": [],
   "source": []
  },
  {
   "cell_type": "code",
   "execution_count": null,
   "metadata": {},
   "outputs": [],
   "source": []
  },
  {
   "cell_type": "code",
   "execution_count": null,
   "metadata": {},
   "outputs": [],
   "source": []
  }
 ],
 "metadata": {
  "kernelspec": {
   "display_name": "Python 3",
   "language": "python",
   "name": "python3"
  },
  "language_info": {
   "codemirror_mode": {
    "name": "ipython",
    "version": 3
   },
   "file_extension": ".py",
   "mimetype": "text/x-python",
   "name": "python",
   "nbconvert_exporter": "python",
   "pygments_lexer": "ipython3",
   "version": "3.7.1rc1"
  }
 },
 "nbformat": 4,
 "nbformat_minor": 2
}
